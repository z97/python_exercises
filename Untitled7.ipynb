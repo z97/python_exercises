{
 "cells": [
  {
   "cell_type": "markdown",
   "metadata": {},
   "source": [
    "# 2"
   ]
  },
  {
   "cell_type": "code",
   "execution_count": 3,
   "metadata": {},
   "outputs": [
    {
     "name": "stdout",
     "output_type": "stream",
     "text": [
      "Enter your name:Artem\n",
      "Hello, Artem\n"
     ]
    }
   ],
   "source": [
    "name = input('Enter your name:')\n",
    "print('Hello,', name)\n"
   ]
  },
  {
   "cell_type": "markdown",
   "metadata": {},
   "source": [
    "# 3"
   ]
  },
  {
   "cell_type": "code",
   "execution_count": 5,
   "metadata": {},
   "outputs": [
    {
     "name": "stdout",
     "output_type": "stream",
     "text": [
      "width: 6\n",
      "length: 8\n",
      "Artea is:  48.0\n"
     ]
    }
   ],
   "source": [
    "w = float(input('width: '))\n",
    "l = float(input('length: '))\n",
    "print('Artea is: ', w*l, 'm')"
   ]
  },
  {
   "cell_type": "markdown",
   "metadata": {},
   "source": [
    "# 4"
   ]
  },
  {
   "cell_type": "code",
   "execution_count": 6,
   "metadata": {},
   "outputs": [
    {
     "name": "stdout",
     "output_type": "stream",
     "text": [
      "width(feet): 7765\n",
      "length(feet): 8776\n",
      "Artea is:  1564.408631772268 acres\n"
     ]
    }
   ],
   "source": [
    "w = float(input('width(feet): '))\n",
    "l = float(input('length(feet): '))\n",
    "print('Artea is: ', w*l/43560, 'acres')"
   ]
  },
  {
   "cell_type": "markdown",
   "metadata": {},
   "source": [
    "# 5"
   ]
  },
  {
   "cell_type": "code",
   "execution_count": 20,
   "metadata": {},
   "outputs": [
    {
     "name": "stdout",
     "output_type": "stream",
     "text": [
      "number of containers liter or less: 9\n",
      "number of containers more than one liter: 9\n",
      "Your bottle depost is: 3.15 $\n"
     ]
    }
   ],
   "source": [
    "liter_or_less = float(input('number of containers liter or less: '))\n",
    "more_than_one_liter = float(input('number of containers more than one liter: '))\n",
    "print('Your bottle depost is:', '{:.2f}'.format(liter_or_less * 0.1 + more_than_one_liter * 0.25), '$')"
   ]
  },
  {
   "cell_type": "markdown",
   "metadata": {},
   "source": [
    "# 6"
   ]
  },
  {
   "cell_type": "code",
   "execution_count": 21,
   "metadata": {},
   "outputs": [
    {
     "name": "stdout",
     "output_type": "stream",
     "text": [
      "Cost of meal: 65\n",
      "fee: 11.05 $\n",
      "tip: 11.70 $\n",
      "total: 87.75 $\n"
     ]
    }
   ],
   "source": [
    "cost_of_meal = float(input('Cost of meal: '))\n",
    "fee = cost_of_meal * 0.17\n",
    "tip = cost_of_meal * 0.18\n",
    "print('fee:', '{:.2f}'.format(fee), '$')\n",
    "print('tip:', '{:.2f}'.format(tip), '$')\n",
    "print('total:', '{:.2f}'.format(tip + fee + cost_of_meal), '$')"
   ]
  },
  {
   "cell_type": "markdown",
   "metadata": {},
   "source": [
    "# 7"
   ]
  },
  {
   "cell_type": "code",
   "execution_count": 31,
   "metadata": {},
   "outputs": [
    {
     "name": "stdout",
     "output_type": "stream",
     "text": [
      "integer:90\n",
      "sum of the first n positive number: 4095\n"
     ]
    }
   ],
   "source": [
    "n = float(input('integer:'))\n",
    "print('sum of the first n positive number:', '{:.0f}'.format((n * (n + 1))/2))"
   ]
  },
  {
   "cell_type": "markdown",
   "metadata": {},
   "source": [
    "# 8"
   ]
  },
  {
   "cell_type": "code",
   "execution_count": 33,
   "metadata": {},
   "outputs": [
    {
     "name": "stdout",
     "output_type": "stream",
     "text": [
      "widget:9\n",
      "gizmos:9\n",
      "Total: 1683 gram\n"
     ]
    }
   ],
   "source": [
    "widget = float(input('widget:'))\n",
    "gizmos = float(input('gizmos:'))\n",
    "print('Total weight:', '{:.0f}'.format(widget * 75 + gizmos * 112), 'grams')"
   ]
  },
  {
   "cell_type": "markdown",
   "metadata": {},
   "source": [
    "# 9"
   ]
  },
  {
   "cell_type": "code",
   "execution_count": 41,
   "metadata": {},
   "outputs": [
    {
     "name": "stdout",
     "output_type": "stream",
     "text": [
      "Deposit:9\n",
      "year 1 : 9.36\n",
      "year 2 : 9.73\n",
      "year 3 : 10.12\n"
     ]
    }
   ],
   "source": [
    "deposit = float(input('Deposit:'))\n",
    "a = [1, 2, 3]\n",
    "for b in a:\n",
    "    print('year', b, ':', '{:.2f}'.format(deposit*1.04**b))"
   ]
  },
  {
   "cell_type": "markdown",
   "metadata": {},
   "source": [
    "# 10"
   ]
  },
  {
   "cell_type": "code",
   "execution_count": 44,
   "metadata": {},
   "outputs": [
    {
     "name": "stdout",
     "output_type": "stream",
     "text": [
      "a:7\n",
      "b:4\n",
      "11\n",
      "-3\n",
      "28\n",
      "1\n",
      "3\n",
      "0.8450980400142568\n",
      "2401\n"
     ]
    }
   ],
   "source": [
    "import math\n",
    "a = int(input('a:'))\n",
    "b = int(input('b:'))\n",
    "print(a + b)\n",
    "print(b - a)\n",
    "print(a * b)\n",
    "print(a // b)\n",
    "print(a % b)\n",
    "print(math.log10(a))\n",
    "print(a ** b)"
   ]
  },
  {
   "cell_type": "markdown",
   "metadata": {},
   "source": [
    "# 11 ---"
   ]
  },
  {
   "cell_type": "code",
   "execution_count": 48,
   "metadata": {},
   "outputs": [
    {
     "name": "stdout",
     "output_type": "stream",
     "text": [
      "American units:1\n",
      "Canadian units: 0.42514285110463595\n"
     ]
    }
   ],
   "source": [
    "a_u = float(input('American units:'))\n",
    "print('Canadian units:', a_u * 1.60934 / 3.78541)"
   ]
  },
  {
   "cell_type": "markdown",
   "metadata": {},
   "source": [
    "# 12"
   ]
  },
  {
   "cell_type": "code",
   "execution_count": 1,
   "metadata": {},
   "outputs": [
    {
     "name": "stdout",
     "output_type": "stream",
     "text": [
      "latitude1:29\n",
      "longitude1:34\n",
      "latitude2:33\n",
      "longitude2:35\n",
      "distance is: 454.86964058131855 km\n"
     ]
    }
   ],
   "source": [
    "import math\n",
    "l1 = float(input('latitude1: '))\n",
    "g1 = float(input('longitude1: '))\n",
    "l2 = float(input('latitude2: '))\n",
    "g2 = float(input('longitude2: '))\n",
    "\n",
    "print('Distance is:', 6371.01 * \n",
    "      math.acos(math.sin(math.radians(l1)) * \n",
    "                  math.sin(math.radians(l2)) + \n",
    "                  math.cos(math.radians(l1)) * \n",
    "                  math.cos(math.radians(l2)) * \n",
    "                  math.cos(math.radians(g1) - math.radians(g2))), 'km')\n"
   ]
  },
  {
   "cell_type": "markdown",
   "metadata": {},
   "source": [
    "# 13"
   ]
  },
  {
   "cell_type": "code",
   "execution_count": 12,
   "metadata": {},
   "outputs": [
    {
     "name": "stdout",
     "output_type": "stream",
     "text": [
      "Cents: 96577755645\n",
      " Toonies:  482888778 \n",
      " Loonies:  0 \n",
      " Quarters: 1 \n",
      " Dimes: 2 \n",
      " Nickels: 0 \n",
      " Pennies: 0\n"
     ]
    }
   ],
   "source": [
    "cents = int(input('Cents: '))\n",
    "t = cents // 200\n",
    "t2 = cents % 200\n",
    "l = t2 // 100\n",
    "l2 = t2 % 100\n",
    "q = l2 // 25\n",
    "q2 = l2 % 25\n",
    "d = q2 // 10\n",
    "d2 = q2 % 10\n",
    "n = d2//5\n",
    "n2 = d2 % 5\n",
    "p = n2 // 1\n",
    "p2 = n2 % 1\n",
    "print(' Toonies: ',t,'\\n', \n",
    "      'Loonies: ',l,'\\n',\n",
    "      'Quarters:',q,'\\n',\n",
    "      'Dimes:',d,'\\n',\n",
    "      'Nickels:',n,'\\n',\n",
    "      'Pennies:',p)"
   ]
  },
  {
   "cell_type": "markdown",
   "metadata": {},
   "source": [
    "# 14"
   ]
  },
  {
   "cell_type": "code",
   "execution_count": 13,
   "metadata": {},
   "outputs": [
    {
     "name": "stdout",
     "output_type": "stream",
     "text": [
      "Feet:6\n",
      "Inches:6\n",
      "198.12\n"
     ]
    }
   ],
   "source": [
    "f = float(input('Feet:'))\n",
    "inc = float(input('Inches:'))\n",
    "print(inc * 2.54 + f * 12 * 2.54)"
   ]
  },
  {
   "cell_type": "markdown",
   "metadata": {},
   "source": [
    "# 15"
   ]
  },
  {
   "cell_type": "code",
   "execution_count": 17,
   "metadata": {},
   "outputs": [
    {
     "name": "stdout",
     "output_type": "stream",
     "text": [
      "Feet:6534\n",
      "inches: 78408.0 \n",
      " yards: 2178.0 \n",
      " miles: 1.2375003960000002\n"
     ]
    }
   ],
   "source": [
    "f = float(input('Feet:'))\n",
    "print('inches:', f * 12, '\\n',\n",
    "     'yards:', f / 3, '\\n',\n",
    "     'miles:', f * 0.000189394)"
   ]
  },
  {
   "cell_type": "markdown",
   "metadata": {},
   "source": [
    "# 16"
   ]
  },
  {
   "cell_type": "code",
   "execution_count": 19,
   "metadata": {},
   "outputs": [
    {
     "name": "stdout",
     "output_type": "stream",
     "text": [
      "Radius:8\n",
      "Area: 201.06192982974676\n",
      "Volume: 2144.660584850632\n"
     ]
    }
   ],
   "source": [
    "r = float(input('Radius:'))\n",
    "print('Area:', math.pi * r ** 2)\n",
    "print('Volume:', 4 / 3 * math.pi * r ** 3)"
   ]
  },
  {
   "cell_type": "markdown",
   "metadata": {},
   "source": [
    "# 17"
   ]
  },
  {
   "cell_type": "code",
   "execution_count": 6,
   "metadata": {},
   "outputs": [
    {
     "name": "stdout",
     "output_type": "stream",
     "text": [
      "amount of water in milliliters:1000\n",
      "temperature increase (degrees Celsius):1000\n",
      "that will require 4186000.0 Joules of energy.\n",
      "That much energy will cost: 10.35 cents\n"
     ]
    }
   ],
   "source": [
    "water_heat_capacity = 4.186\n",
    "electricity_price = 8.9\n",
    "j_to_kwh = 2.777e-7\n",
    "\n",
    "volume = float(input('amount of water in milliliters:'))\n",
    "d_temp = float(input('temperature increase (degrees Celsius):'))\n",
    "\n",
    "q = volume * d_temp * water_heat_capacity\n",
    "print('that will require', q, 'Joules of energy.')\n",
    "kwh = q * j_to_kwh\n",
    "cost = kwh * electricity_price\n",
    "print('That much energy will cost:', '{:.2f}'.format(cost), 'cents')"
   ]
  },
  {
   "cell_type": "markdown",
   "metadata": {},
   "source": [
    "# 18"
   ]
  },
  {
   "cell_type": "code",
   "execution_count": 2,
   "metadata": {},
   "outputs": [
    {
     "name": "stdout",
     "output_type": "stream",
     "text": [
      "Radius:7\n",
      "Height5\n",
      "Volume of cylinder: 769.7\n"
     ]
    }
   ],
   "source": [
    "import math\n",
    "r = float(input('Radius:'))\n",
    "h = float(input('Height'))\n",
    "print('Volume of cylinder:', '{:.1f}'.format(math.pi * r ** 2 * h))"
   ]
  },
  {
   "cell_type": "markdown",
   "metadata": {},
   "source": [
    "# 19"
   ]
  },
  {
   "cell_type": "code",
   "execution_count": 9,
   "metadata": {},
   "outputs": [
    {
     "name": "stdout",
     "output_type": "stream",
     "text": [
      "Height (in metres):100000\n",
      "It will hit the ground at: 1400.00 m/s\n"
     ]
    }
   ],
   "source": [
    "from math import sqrt\n",
    "gravity = 9.8\n",
    "d = float(input('Height (in metres):'))\n",
    "vf = sqrt(2 * gravity * d)\n",
    "print('It will hit the ground at:', '{:.2f}'.format(vf), 'm/s')"
   ]
  },
  {
   "cell_type": "markdown",
   "metadata": {},
   "source": [
    "# 20"
   ]
  },
  {
   "cell_type": "code",
   "execution_count": 11,
   "metadata": {},
   "outputs": [
    {
     "name": "stdout",
     "output_type": "stream",
     "text": [
      "pressure (pascals):20000000\n",
      "volume (liters):12\n",
      "temperature (kelvins):293\n",
      "98.5220865992721\n"
     ]
    }
   ],
   "source": [
    "p = float(input('pressure (pascals):'))\n",
    "v = float(input('volume (liters):'))\n",
    "t = float(input('temperature (kelvins):'))\n",
    "r = 8.314\n",
    "print((p * v) / (r * t) / 1000)"
   ]
  },
  {
   "cell_type": "markdown",
   "metadata": {},
   "source": [
    "# 21"
   ]
  },
  {
   "cell_type": "code",
   "execution_count": 12,
   "metadata": {
    "scrolled": true
   },
   "outputs": [
    {
     "name": "stdout",
     "output_type": "stream",
     "text": [
      "lenght of base:4\n",
      "height:4\n",
      "area of a triangle: 8.0\n"
     ]
    }
   ],
   "source": [
    "b = float(input('lenght of base:'))\n",
    "h = float(input('height:'))\n",
    "print('area of a triangle:', (b * h) / 2)"
   ]
  },
  {
   "cell_type": "markdown",
   "metadata": {},
   "source": [
    "# 22"
   ]
  },
  {
   "cell_type": "code",
   "execution_count": 15,
   "metadata": {},
   "outputs": [
    {
     "name": "stdout",
     "output_type": "stream",
     "text": [
      "side1:3\n",
      "side2:4\n",
      "side3:5\n",
      "Area of trangle is: 6.0\n"
     ]
    }
   ],
   "source": [
    "from math import sqrt\n",
    "s1 = float(input('side1:'))\n",
    "s2 = float(input('side2:'))\n",
    "s3 = float(input('side3:'))\n",
    "s = (s1 + s2 + s3) / 2\n",
    "area = sqrt(s * \n",
    "            (s - s1) * \n",
    "            (s - s2) * \n",
    "            (s - s3))\n",
    "print('Area of trangle is:', area)"
   ]
  },
  {
   "cell_type": "markdown",
   "metadata": {},
   "source": [
    "# 23"
   ]
  },
  {
   "cell_type": "code",
   "execution_count": 17,
   "metadata": {},
   "outputs": [
    {
     "name": "stdout",
     "output_type": "stream",
     "text": [
      "length of side:7\n",
      "number of sides:7\n",
      "area of regular polygon is 41.29502356274558\n"
     ]
    }
   ],
   "source": [
    "import math\n",
    "s = float(input('length of side:'))\n",
    "n = float(input('number of sides:'))\n",
    "area = (n * s ** 2) / 4 * math.tan(math.pi / n)\n",
    "print('area of regular polygon is:', area)"
   ]
  },
  {
   "cell_type": "markdown",
   "metadata": {},
   "source": [
    "# 24"
   ]
  },
  {
   "cell_type": "code",
   "execution_count": 20,
   "metadata": {},
   "outputs": [
    {
     "name": "stdout",
     "output_type": "stream",
     "text": [
      "days:365\n",
      "hours:0\n",
      "minutes:0\n",
      "seconds:0\n",
      "seconds: 31536000.0\n"
     ]
    }
   ],
   "source": [
    "d = float(input('days:'))\n",
    "h = float(input('hours:'))\n",
    "m = float(input('minutes:'))\n",
    "s = float(input('seconds:'))\n",
    "seconds = s + m * 60 + h * 60 * 60 + d * 60 * 60 * 24\n",
    "print('seconds:', seconds)"
   ]
  },
  {
   "cell_type": "markdown",
   "metadata": {},
   "source": [
    "# 25"
   ]
  },
  {
   "cell_type": "code",
   "execution_count": 44,
   "metadata": {
    "scrolled": true
   },
   "outputs": [
    {
     "name": "stdout",
     "output_type": "stream",
     "text": [
      "seconds:678567\n",
      " days: 7 \n",
      " hours: 20 \n",
      " minutes: 00 \n",
      " seconds 00\n"
     ]
    }
   ],
   "source": [
    "s = float(input('seconds:'))\n",
    "d2 = int(s // 86400)\n",
    "d3 = s % 86400\n",
    "h = int(d3 // 3600)\n",
    "h2 = d2 % 3600\n",
    "m = int(h2 // 60)\n",
    "m2 = h2 % 60\n",
    "sec = int(m2 // 60)\n",
    "sec2 = m2 % 60\n",
    "print(' days:', d2, '\\n',\n",
    "      'hours:', \"{:02d}\".format(h), '\\n', \n",
    "      'minutes:', \"{:02d}\".format(m), '\\n', \n",
    "      'seconds', \"{:02d}\".format(sec))"
   ]
  },
  {
   "cell_type": "markdown",
   "metadata": {},
   "source": [
    "# 26"
   ]
  },
  {
   "cell_type": "code",
   "execution_count": 45,
   "metadata": {},
   "outputs": [
    {
     "name": "stdout",
     "output_type": "stream",
     "text": [
      "Wed Sep  9 14:08:23 2020\n"
     ]
    }
   ],
   "source": [
    "import time\n",
    "a = time.asctime()\n",
    "print(a)"
   ]
  },
  {
   "cell_type": "markdown",
   "metadata": {},
   "source": [
    "# 27"
   ]
  },
  {
   "cell_type": "code",
   "execution_count": 2,
   "metadata": {},
   "outputs": [
    {
     "name": "stdout",
     "output_type": "stream",
     "text": [
      "Year:2020\n",
      "4.0 19.0\n"
     ]
    }
   ],
   "source": [
    "year = float(input('Year:'))\n",
    "a = year % 19\n",
    "b = year // 100\n",
    "c = year % 100\n",
    "d = b // 4\n",
    "e = b % 4\n",
    "f = (b + 8) // 25\n",
    "g = (b - f + 1) // 3\n",
    "h = (19 * a + b - d + 15) % 30\n",
    "i = c // 4\n",
    "k = c % 4\n",
    "l = (32 + 2 * e + 2 * i - h - k) % 7\n",
    "m = (a + 11 * h + 22 * l) // 451\n",
    "month = (h + l - 7 * m + 114) // 31\n",
    "day = 1 + ((h + l - 7 * m + 114) % 31)\n",
    "print(month, day)"
   ]
  },
  {
   "cell_type": "markdown",
   "metadata": {},
   "source": [
    "# 28"
   ]
  },
  {
   "cell_type": "code",
   "execution_count": 3,
   "metadata": {},
   "outputs": [
    {
     "name": "stdout",
     "output_type": "stream",
     "text": [
      "weigth:55\n",
      "height:1.75\n",
      "BMI: 17.959183673469386\n"
     ]
    }
   ],
   "source": [
    "w = float(input('weigth (kg):'))\n",
    "h = float(input('height (m):'))\n",
    "bmi = w / (h * h)\n",
    "print('BMI:', bmi)"
   ]
  },
  {
   "cell_type": "markdown",
   "metadata": {},
   "source": [
    "# 29"
   ]
  },
  {
   "cell_type": "code",
   "execution_count": 7,
   "metadata": {},
   "outputs": [
    {
     "name": "stdout",
     "output_type": "stream",
     "text": [
      "temperature (Celsius):-47\n",
      "Wind speed:(km per hour)90\n",
      "WCI: -86 Celsius\n"
     ]
    }
   ],
   "source": [
    "t = float(input('temperature (Celsius):'))\n",
    "ws = float(input('Wind speed:(km per hour)'))\n",
    "t_f = (t * 9 / 5) + 32\n",
    "wci = 13.12 + 0.6215 * t_f - 11.37 * ws ** 0.16 + 0.3965 * t_f * ws ** 0.16\n",
    "print('WCI:', '{:.0f}'.format(wci), 'Celsius')"
   ]
  },
  {
   "cell_type": "markdown",
   "metadata": {},
   "source": [
    "# 30"
   ]
  },
  {
   "cell_type": "code",
   "execution_count": 3,
   "metadata": {},
   "outputs": [
    {
     "name": "stdout",
     "output_type": "stream",
     "text": [
      "Celsius:25\n",
      "Fahrenheit: 77.0 Kelvin: 298.15\n"
     ]
    }
   ],
   "source": [
    "t_c = float(input('Celsius:'))\n",
    "t_f = (t_c * 9 / 5) + 32\n",
    "t_k = t_c + 273.15\n",
    "print('Fahrenheit:', t_f, 'Kelvin:', t_k)"
   ]
  },
  {
   "cell_type": "markdown",
   "metadata": {},
   "source": [
    "# 31"
   ]
  },
  {
   "cell_type": "code",
   "execution_count": 5,
   "metadata": {},
   "outputs": [
    {
     "name": "stdout",
     "output_type": "stream",
     "text": [
      "kilopascals:20\n",
      " pounds per square inch: 2.9006526468455403 \n",
      " millimeters of mercury: 150.02 \n",
      " atmospheres: 0.19801980198019803\n"
     ]
    }
   ],
   "source": [
    "kp = float(input('kilopascals:'))\n",
    "ppsi = kp / 6.895\n",
    "mof = kp * 7.501\n",
    "atm = kp / 101\n",
    "print(' pounds per square inch:', ppsi, '\\n',\n",
    "     'millimeters of mercury:', mof, '\\n',\n",
    "     'atmospheres:', atm)"
   ]
  },
  {
   "cell_type": "markdown",
   "metadata": {},
   "source": [
    "# 32"
   ]
  },
  {
   "cell_type": "code",
   "execution_count": 31,
   "metadata": {},
   "outputs": [
    {
     "name": "stdout",
     "output_type": "stream",
     "text": [
      "input:6986786\n",
      "50\n"
     ]
    }
   ],
   "source": [
    "l = list(str(input('input:')))\n",
    "sl = []\n",
    "for i in l:\n",
    "    sl.append(int(i))\n",
    "a = 0\n",
    "for i in sl:\n",
    "    a += i\n",
    "print(a)"
   ]
  },
  {
   "cell_type": "markdown",
   "metadata": {},
   "source": [
    "# 33"
   ]
  },
  {
   "cell_type": "code",
   "execution_count": 34,
   "metadata": {},
   "outputs": [
    {
     "name": "stdout",
     "output_type": "stream",
     "text": [
      "1:7\n",
      "2:5\n",
      "3:3\n",
      "3 5 7\n"
     ]
    }
   ],
   "source": [
    "int1 = int(input('1:'))\n",
    "int2 = int(input('2:'))\n",
    "int3 = int(input('3:'))\n",
    "minimum = min(int1, int2, int3)\n",
    "maximum = max(int1, int2, int3)\n",
    "middle = (int1 + int2 + int3) - minimum - maximum\n",
    "print(minimum, middle, maximum)"
   ]
  },
  {
   "cell_type": "markdown",
   "metadata": {},
   "source": [
    "# 34"
   ]
  },
  {
   "cell_type": "code",
   "execution_count": 39,
   "metadata": {},
   "outputs": [
    {
     "name": "stdout",
     "output_type": "stream",
     "text": [
      "number of loaves of day regular price:7\n",
      "number of loaves of day old price:4\n",
      " Regular price: 24.43 \n",
      " Discount price: 5.58 \n",
      " Total price: 30.01\n"
     ]
    }
   ],
   "source": [
    "rp = 3.49\n",
    "dp = 3.49*0.4\n",
    "nr = int(input('number of loaves of day regular price:'))\n",
    "np = int(input('number of loaves of day old price:'))\n",
    "print(' Regular price:', '{:.2f}'.format(rp * nr), '\\n',\n",
    "     'Discount price:', '{:.2f}'.format(dp * np), '\\n',\n",
    "     'Total price:', '{:.2f}'.format(rp * nr + dp * np))"
   ]
  },
  {
   "cell_type": "markdown",
   "metadata": {},
   "source": [
    "# 35"
   ]
  },
  {
   "cell_type": "code",
   "execution_count": 46,
   "metadata": {},
   "outputs": [
    {
     "name": "stdout",
     "output_type": "stream",
     "text": [
      "Integer:89\n",
      "even number\n"
     ]
    }
   ],
   "source": [
    "i = int(input('Integer:'))\n",
    "if i % 2 == 0:\n",
    "    print('odd number')\n",
    "else:\n",
    "    print('even number')"
   ]
  },
  {
   "cell_type": "markdown",
   "metadata": {},
   "source": [
    "# 36"
   ]
  },
  {
   "cell_type": "code",
   "execution_count": 44,
   "metadata": {},
   "outputs": [
    {
     "name": "stdout",
     "output_type": "stream",
     "text": [
      "Human years:17\n",
      "Dog years: 81.0\n"
     ]
    }
   ],
   "source": [
    "h = float(input('Human years:'))\n",
    "if h < 2:\n",
    "    d = h * 10.5\n",
    "else:\n",
    "    d = 21 + (h - 2) * 4\n",
    "print('Dog years:', d)"
   ]
  },
  {
   "cell_type": "markdown",
   "metadata": {},
   "source": [
    "# 37"
   ]
  },
  {
   "cell_type": "code",
   "execution_count": 6,
   "metadata": {},
   "outputs": [
    {
     "name": "stdout",
     "output_type": "stream",
     "text": [
      "Letter:u\n",
      "Vowel\n"
     ]
    }
   ],
   "source": [
    "letter = input('Letter:')\n",
    "if letter in ['a', 'e', 'i', 'o', 'u']:\n",
    "    print('Vowel')\n",
    "elif letter == y:\n",
    "    print('sometimes y is a vowel, and sometimes y is a consonant')\n",
    "else:\n",
    "    print('Letter is consonant')"
   ]
  },
  {
   "cell_type": "markdown",
   "metadata": {},
   "source": [
    "# 38"
   ]
  },
  {
   "cell_type": "code",
   "execution_count": 3,
   "metadata": {},
   "outputs": [
    {
     "name": "stdout",
     "output_type": "stream",
     "text": [
      "Number of sides:5\n",
      "pentagon\n"
     ]
    }
   ],
   "source": [
    "n = int(input('Number of sides:'))\n",
    "if n == 3:\n",
    "    print('Triangle')\n",
    "elif n == 4:\n",
    "    print('Square')\n",
    "elif n == 5:\n",
    "    print('Pentagon')\n",
    "elif n == 6:\n",
    "    print('Hexagon')\n",
    "elif n == 7:\n",
    "    print('Heptagon')\n",
    "elif n == 8:\n",
    "    print('Octagon')\n",
    "elif n == 9:\n",
    "    print('Nonagon')\n",
    "elif n == 10:\n",
    "    print('Decagon')\n",
    "else:\n",
    "    print('Error')"
   ]
  },
  {
   "cell_type": "markdown",
   "metadata": {},
   "source": [
    "# 39"
   ]
  },
  {
   "cell_type": "code",
   "execution_count": null,
   "metadata": {},
   "outputs": [],
   "source": [
    "a = input('Name of a month')\n",
    "if a in ['januar', 'march', 'may', 'jule', 'august', 'october', 'december']:\n",
    "    print('31 days')\n",
    "elif a in ['april', 'june', 'september', 'november']:\n",
    "    print('30 days')\n",
    "elif a == 'februar':\n",
    "    print('29, 28')"
   ]
  },
  {
   "cell_type": "markdown",
   "metadata": {},
   "source": [
    "# 40"
   ]
  },
  {
   "cell_type": "code",
   "execution_count": null,
   "metadata": {},
   "outputs": [],
   "source": [
    "s = int(input('Sound level'))\n",
    "if s < 40:\n",
    "    print('less quiet room')\n",
    "elif s == 40:\n",
    "    print('quiet room')\n",
    "elif 40 < s < 70:\n",
    "    print('between alarm clock and quiet room')\n",
    "elif s == 70:\n",
    "    print('alarm clock')\n",
    "elif 70 < s < 106:\n",
    "    print('between gas lawnmower and alarm clock')\n",
    "elif s == 106:\n",
    "    print('gas lawnmower')\n",
    "elif 106 < s < 130:\n",
    "    print('between jacknammer and gas lawnmower')\n",
    "elif s == 130:\n",
    "    print('jackhammer')\n",
    "else:\n",
    "    print('error')"
   ]
  },
  {
   "cell_type": "markdown",
   "metadata": {},
   "source": [
    "# 41"
   ]
  },
  {
   "cell_type": "code",
   "execution_count": 4,
   "metadata": {},
   "outputs": [
    {
     "name": "stdout",
     "output_type": "stream",
     "text": [
      "lenth os a side a8\n",
      "lenth os a side b7\n",
      "lenth os a side c6\n",
      "scalene triangle\n"
     ]
    }
   ],
   "source": [
    "a = float(input('lenth os a side a'))\n",
    "b = float(input('lenth os a side b'))\n",
    "c = float(input('lenth os a side c'))\n",
    "if a == b == c:\n",
    "    print('equilateral triangle')\n",
    "elif a == b or b == c or c == a:\n",
    "    print('isosceles triangle')\n",
    "else:\n",
    "    print('scalene triangle')"
   ]
  },
  {
   "cell_type": "markdown",
   "metadata": {},
   "source": [
    "# 42"
   ]
  },
  {
   "cell_type": "code",
   "execution_count": 5,
   "metadata": {},
   "outputs": [
    {
     "name": "stdout",
     "output_type": "stream",
     "text": [
      "enter:c4\n",
      "the frequency of c4 is 261.63 hz\n"
     ]
    }
   ],
   "source": [
    "c4_freq = 261.63\n",
    "d4_freq = 293.66\n",
    "e4_freq = 329.63\n",
    "f4_freq = 349.23\n",
    "g4_freq = 392.00\n",
    "a4_freq = 440.00\n",
    "b4_freq = 493.88\n",
    "\n",
    "name = input('enter:')\n",
    "note = name[0]\n",
    "octave = int(name[1])\n",
    "\n",
    "if note == 'c':\n",
    "    freq = c4_freq\n",
    "elif note == 'd':\n",
    "    freq = d4_freq\n",
    "elif note == 'e':\n",
    "    freq = e4_freq\n",
    "elif note == 'f':\n",
    "    freq = f4_freq\n",
    "elif note == 'g':\n",
    "    freq = g4_freq\n",
    "elif note == 'a':\n",
    "    freq = a4_freq\n",
    "elif note == 'b':\n",
    "    freq = b4_freq\n",
    "else:\n",
    "    print('error')\n",
    "    quit()\n",
    "\n",
    "freq = freq / 2 ** (4 - octave)\n",
    "print('the frequency of', name, 'is', freq, 'hz')"
   ]
  },
  {
   "cell_type": "markdown",
   "metadata": {},
   "source": [
    "# 44"
   ]
  },
  {
   "cell_type": "code",
   "execution_count": 7,
   "metadata": {},
   "outputs": [
    {
     "name": "stdout",
     "output_type": "stream",
     "text": [
      "amount:60\n",
      "error\n"
     ]
    }
   ],
   "source": [
    "n = int(input('amount:'))\n",
    "if n == 1:\n",
    "    print('george washington')\n",
    "elif n == 2:\n",
    "    print('thomas jefferson')\n",
    "elif n == 5:\n",
    "    print('abraham lincoln')\n",
    "elif n == 10:\n",
    "    print('alexander hamilton')\n",
    "elif n == 20:\n",
    "    print('andrew jackson')\n",
    "elif n == 50:\n",
    "    print('ulysses s.grant')\n",
    "elif n == 100:\n",
    "    print('benjamin franklin')\n",
    "else:\n",
    "    print('error')"
   ]
  },
  {
   "cell_type": "markdown",
   "metadata": {},
   "source": [
    "# 45"
   ]
  },
  {
   "cell_type": "code",
   "execution_count": null,
   "metadata": {},
   "outputs": [],
   "source": [
    "a = input('Date:')\n",
    "if a == 'january 1':\n",
    "    print('new years day')\n",
    "elif a == 'july 1':\n",
    "    print('canada day')\n",
    "elif a == 'december 25':\n",
    "    print('christmas day')\n",
    "else:\n",
    "    print('no holyday')"
   ]
  },
  {
   "cell_type": "markdown",
   "metadata": {},
   "source": [
    "# 46"
   ]
  },
  {
   "cell_type": "code",
   "execution_count": null,
   "metadata": {},
   "outputs": [],
   "source": [
    "p = input('position')\n",
    "column = p[0]\n",
    "row = int(p[1])\n",
    "if (column in ['a', 'c', 'e', 'g']) and (row in [1, 3, 5, 7]):\n",
    "    print('black')\n",
    "else:\n",
    "    print('white')"
   ]
  },
  {
   "cell_type": "markdown",
   "metadata": {},
   "source": [
    "# 47"
   ]
  },
  {
   "cell_type": "code",
   "execution_count": null,
   "metadata": {},
   "outputs": [],
   "source": [
    "m = input('Date:')\n",
    "m2 = m.split()\n",
    "m3 = m2[0]\n",
    "if m3 in ['december', 'januar', 'februar']:\n",
    "    print('winter')\n",
    "elif m3 in ['march', 'atril', 'may']:\n",
    "    print('spring')\n",
    "elif m3 in ['june', 'jule', 'august']:\n",
    "    print('summer')\n",
    "elif m3 in ['september', 'october', 'november']:\n",
    "    print('fall')\n",
    "else:\n",
    "    print('error')"
   ]
  },
  {
   "cell_type": "markdown",
   "metadata": {},
   "source": [
    "# 48"
   ]
  },
  {
   "cell_type": "code",
   "execution_count": null,
   "metadata": {},
   "outputs": [],
   "source": [
    "m = input('Date:')\n",
    "m2 = m.split()\n",
    "m3 = m2[0]\n",
    "m4 = m2[1]\n",
    "if (m3 == 'december' and m4 >= 22) or (m3 == 'january' and m4 <= 19)"
   ]
  },
  {
   "cell_type": "markdown",
   "metadata": {},
   "source": [
    "# 49"
   ]
  },
  {
   "cell_type": "code",
   "execution_count": null,
   "metadata": {},
   "outputs": [],
   "source": [
    "y = int(input('year:'))\n",
    "y2 = y // "
   ]
  },
  {
   "cell_type": "markdown",
   "metadata": {},
   "source": [
    "# 51"
   ]
  },
  {
   "cell_type": "code",
   "execution_count": 2,
   "metadata": {},
   "outputs": [
    {
     "name": "stdout",
     "output_type": "stream",
     "text": [
      "A:7\n",
      "B:4\n",
      "C9\n",
      "equation does not have any real roots\n"
     ]
    }
   ],
   "source": [
    "a = int(input('A:'))\n",
    "b = int(input('B:'))\n",
    "c = int(input('C:'))\n",
    "d = b ** 2 - 4 * a * c\n",
    "if d == 0:\n",
    "    print('equation has one real root')\n",
    "elif d < 0:\n",
    "    print('equation does not have any real roots')\n",
    "else:\n",
    "    print('equation has two real roots')"
   ]
  },
  {
   "cell_type": "markdown",
   "metadata": {},
   "source": [
    "# 54"
   ]
  },
  {
   "cell_type": "code",
   "execution_count": 4,
   "metadata": {},
   "outputs": [
    {
     "name": "stdout",
     "output_type": "stream",
     "text": [
      "Rate:0.5\n",
      "error\n"
     ]
    }
   ],
   "source": [
    "a = float(input('Rate:'))\n",
    "b = 2400\n",
    "c = a * b\n",
    "if a == 0.0:\n",
    "    print('unacceptable performance', c, '0$')\n",
    "elif a == 0.4:\n",
    "    print('acceptable performance', c, '$')\n",
    "elif a >= 0.6:\n",
    "    print('meritorious performance', c, '$')\n",
    "else:\n",
    "    print('error')"
   ]
  },
  {
   "cell_type": "markdown",
   "metadata": {},
   "source": [
    "# 57"
   ]
  },
  {
   "cell_type": "code",
   "execution_count": 7,
   "metadata": {},
   "outputs": [
    {
     "name": "stdout",
     "output_type": "stream",
     "text": [
      "minutes:8\n",
      "sms8\n",
      " Bill: 15.44 \n",
      " Fee: 0.77 \n",
      " Total: 16.21\n"
     ]
    }
   ],
   "source": [
    "a = float(input('minutes:'))\n",
    "b = float(input('sms:'))\n",
    "\n",
    "if a <= 50 and b <= 50:\n",
    "    bill = 15 + 0.44\n",
    "    fee = 0.05 * bill\n",
    "    total = bill + fee\n",
    "    print(' Bill:', '{:.2f}'.format(bill), '\\n',\n",
    "         'Fee:', '{:.2f}'.format(fee), '\\n',\n",
    "         'Total:', '{:.2f}'.format(total))\n",
    "elif a <= 50 and b > 50:\n",
    "    bill = 15 + (b - 50) * 0.15 + 0.44\n",
    "    fee = 0.05 * bill\n",
    "    total = bill + fee\n",
    "    print(' Bill:', '{:.2f}'.format(bill), '\\n',\n",
    "         'Fee:', '{:.2f}'.format(fee), '\\n',\n",
    "         'Total:', '{:.2f}'.format(total))\n",
    "elif a > 50 and b > 50:\n",
    "    bill = 15 + (a - 50) * 0.25 + (b - 50) * 0.15 + 0.44\n",
    "    fee = 0.05 * bill\n",
    "    total = bill + fee\n",
    "    print(' Bill:', '{:.2f}'.format(bill), '\\n',\n",
    "         'Fee:', '{:.2f}'.format(fee), '\\n',\n",
    "         'Total:', '{:.2f}'.format(total))\n",
    "else:\n",
    "    print('error')"
   ]
  },
  {
   "cell_type": "markdown",
   "metadata": {},
   "source": [
    "# 58"
   ]
  },
  {
   "cell_type": "code",
   "execution_count": 9,
   "metadata": {},
   "outputs": [
    {
     "name": "stdout",
     "output_type": "stream",
     "text": [
      "year1900\n",
      "not a leap year\n"
     ]
    }
   ],
   "source": [
    "a = int(input('year:'))\n",
    "if a % 400 == 0:\n",
    "    print('leap year')\n",
    "elif a % 100 == 0:\n",
    "    print('not a leap year')\n",
    "elif a % 4 == 0:\n",
    "    print('leap year')\n",
    "else:\n",
    "    print('not a leap year')"
   ]
  },
  {
   "cell_type": "markdown",
   "metadata": {},
   "source": [
    "# 61"
   ]
  },
  {
   "cell_type": "code",
   "execution_count": 18,
   "metadata": {},
   "outputs": [
    {
     "name": "stdout",
     "output_type": "stream",
     "text": [
      "enter number:7654dfg\n",
      "newer style license plate\n"
     ]
    }
   ],
   "source": [
    "import re\n",
    "a = input('enter number:')\n",
    "b = str(re.search(r'\\d+', a).group())\n",
    "\n",
    "if len(a) == 6 and len(b) == 3:\n",
    "    print('older style license plate')\n",
    "elif len(a) == 7 and len (b) == 4:\n",
    "    print('newer style license plate')"
   ]
  },
  {
   "cell_type": "markdown",
   "metadata": {},
   "source": [
    "# 62"
   ]
  },
  {
   "cell_type": "code",
   "execution_count": 72,
   "metadata": {},
   "outputs": [
    {
     "name": "stdout",
     "output_type": "stream",
     "text": [
      "3\n",
      "Pay Red\n",
      "Pay Odd\n",
      "Pay 1 to 18\n"
     ]
    }
   ],
   "source": [
    "import random\n",
    "a = random.randint(0,37)\n",
    "b = [1, 3, 5, 7, 9, 12, 14, 16, 18, 19, 21, 23, 25, 27, 30, 32, 34, 36]\n",
    "print(a)\n",
    "if a in [0, 37]:\n",
    "    print('green')\n",
    "else:\n",
    "    if a in b:\n",
    "        print('Pay Red')\n",
    "        if a % 2 == 0:\n",
    "            print('Pay Even')\n",
    "            if a <= 18:\n",
    "                print('Pay 1 to 18')\n",
    "            else:\n",
    "                print('Pay 19 to 36')\n",
    "        else:\n",
    "            print('Pay Odd')\n",
    "            if a <= 18:\n",
    "                print('Pay 1 to 18')\n",
    "            else:\n",
    "                print('Pay 19 to 36')\n",
    "    else:\n",
    "        print('Pay Black')\n",
    "        if a % 2 == 0:\n",
    "            print('Pay Even')\n",
    "            if a <= 18:\n",
    "                print('Pay 1 to 18')\n",
    "            else:\n",
    "                print('Pay 19 to 36')\n",
    "        else:\n",
    "            print('Pay Odd')\n",
    "            if a <= 18:\n",
    "                print('Pay 1 to 18')\n",
    "            else:\n",
    "                print('Pay 19 to 36')"
   ]
  },
  {
   "cell_type": "code",
   "execution_count": 171,
   "metadata": {},
   "outputs": [
    {
     "name": "stdout",
     "output_type": "stream",
     "text": [
      "8\n",
      "Pay Black\n",
      "Pay Even\n",
      "Pay 1 to 18\n"
     ]
    }
   ],
   "source": [
    "import random\n",
    "a = random.randint(0,37)\n",
    "b = [1, 3, 5, 7, 9, 12, 14, 16, 18, 19, 21, 23, 25, 27, 30, 32, 34, 36]\n",
    "print(a)\n",
    "\n",
    "def check_1():\n",
    "    if a in b:\n",
    "        print('Pay Red')\n",
    "    else:\n",
    "        print('Pay Black')\n",
    "        \n",
    "def check_2():\n",
    "    if a % 2 == 0:\n",
    "        print('Pay Even')\n",
    "    else:\n",
    "        print('Pay Odd')\n",
    "        \n",
    "def check_3():\n",
    "    if a <= 18:\n",
    "        print('Pay 1 to 18')\n",
    "    else:\n",
    "        print('Pay 19 to 36')\n",
    "        \n",
    "if a in [0, 37]:\n",
    "    print('green')\n",
    "else:\n",
    "    check_1()\n",
    "    check_2()\n",
    "    check_3() "
   ]
  },
  {
   "cell_type": "code",
   "execution_count": 68,
   "metadata": {},
   "outputs": [
    {
     "name": "stdout",
     "output_type": "stream",
     "text": [
      "9\n"
     ]
    }
   ],
   "source": []
  }
 ],
 "metadata": {
  "kernelspec": {
   "display_name": "Python 3",
   "language": "python",
   "name": "python3"
  },
  "language_info": {
   "codemirror_mode": {
    "name": "ipython",
    "version": 3
   },
   "file_extension": ".py",
   "mimetype": "text/x-python",
   "name": "python",
   "nbconvert_exporter": "python",
   "pygments_lexer": "ipython3",
   "version": "3.7.3"
  }
 },
 "nbformat": 4,
 "nbformat_minor": 2
}
