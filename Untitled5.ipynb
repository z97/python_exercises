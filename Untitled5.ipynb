{
 "cells": [
  {
   "cell_type": "code",
   "execution_count": 2,
   "metadata": {},
   "outputs": [
    {
     "name": "stdout",
     "output_type": "stream",
     "text": [
      "Enter Hours: 45\n",
      "Rate: 10.5\n",
      "498.75\n"
     ]
    }
   ],
   "source": [
    "hrs = input(\"Enter Hours: \")\n",
    "h = float(hrs)\n",
    "rate = input('Rate: ')\n",
    "r = float(rate)\n",
    "if h > 40:\n",
    "    h_p = h - 40\n",
    "    r_p = r * 1.5\n",
    "    print(40 * r + h_p * r_p)\n",
    "else:\n",
    "    print(h * r)"
   ]
  },
  {
   "cell_type": "code",
   "execution_count": 10,
   "metadata": {},
   "outputs": [
    {
     "name": "stdout",
     "output_type": "stream",
     "text": [
      "Enter Score: 00\n",
      "error\n"
     ]
    }
   ],
   "source": [
    "score = input(\"Enter Score: \")\n",
    "score = float(score)\n",
    "if 0.0 < score < 1.0:\n",
    "    if score >= 0.9:\n",
    "        print(\"A\")\n",
    "    elif score >= 0.8:\n",
    "        print(\"B\")\n",
    "    elif score >= 0.7:\n",
    "        print(\"C\")\n",
    "    elif score >= 0.6:\n",
    "        print(\"D\")\n",
    "    else:\n",
    "        print(\"F\")\n",
    "else:\n",
    "    print(\"error\")\n",
    "    quit()"
   ]
  },
  {
   "cell_type": "code",
   "execution_count": 6,
   "metadata": {},
   "outputs": [
    {
     "name": "stdout",
     "output_type": "stream",
     "text": [
      "Enter Hours: 45\n",
      "Rate: 10.5\n",
      "Pay 498.75\n"
     ]
    }
   ],
   "source": [
    "def computepay():\n",
    "    hrs = input(\"Enter Hours: \")\n",
    "    h = float(hrs)\n",
    "    rate = input('Rate: ')\n",
    "    r = float(rate)\n",
    "    if h > 40:\n",
    "        h_p = h - 40\n",
    "        r_p = r * 1.5\n",
    "        return(40 * r + h_p * r_p)\n",
    "    else:\n",
    "        return(h * r)\n",
    "print(\"Pay\", computepay())"
   ]
  },
  {
   "cell_type": "code",
   "execution_count": 2,
   "metadata": {},
   "outputs": [
    {
     "name": "stdout",
     "output_type": "stream",
     "text": [
      "After 154\n"
     ]
    }
   ],
   "source": [
    "zork = 0\n",
    "for thing in [9, 41, 12, 3, 74, 15] :\n",
    "    zork = zork + thing\n",
    "print('After', zork)"
   ]
  },
  {
   "cell_type": "code",
   "execution_count": 9,
   "metadata": {},
   "outputs": [
    {
     "name": "stdout",
     "output_type": "stream",
     "text": [
      "Enter a number: 7\n",
      "Enter a number: 2\n",
      "Enter a number: bob\n",
      "Invalid input\n",
      "Enter a number: 10\n",
      "Enter a number: 4\n",
      "Enter a number: done\n",
      "Maximum is 10\n",
      "Minimum is 2\n"
     ]
    }
   ],
   "source": [
    "num = 0\n",
    "largest = -1\n",
    "smallest = None\n",
    "while True:\n",
    "    num = input(\"Enter a number: \")\n",
    "    if num == \"done\" :\n",
    "        break\n",
    "    try :\n",
    "        numb = int(num)\n",
    "    except :\n",
    "        print('Invalid input')\n",
    "    if smallest is None :\n",
    "        smallest = numb\n",
    "    elif numb < smallest :\n",
    "        smallest = numb\n",
    "    elif numb > largest :\n",
    "        largest = numb\n",
    "print(\"Maximum is\", largest)\n",
    "print(\"Minimum is\", smallest)"
   ]
  },
  {
   "cell_type": "code",
   "execution_count": 11,
   "metadata": {},
   "outputs": [
    {
     "name": "stdout",
     "output_type": "stream",
     "text": [
      "0 b\n",
      "1 a\n",
      "2 n\n",
      "3 a\n",
      "4 n\n",
      "5 a\n"
     ]
    }
   ],
   "source": [
    "fruit = 'banana'\n",
    "index = 0\n",
    "while index < len(fruit):\n",
    "    letter = fruit[index]\n",
    "    print(index, letter)\n",
    "    index = index + 1"
   ]
  },
  {
   "cell_type": "code",
   "execution_count": 12,
   "metadata": {},
   "outputs": [
    {
     "name": "stdout",
     "output_type": "stream",
     "text": [
      "3\n"
     ]
    }
   ],
   "source": [
    "word = 'banana'\n",
    "count = 0\n",
    "for letter in word:\n",
    "    if letter == 'a':\n",
    "        count = count + 1\n",
    "print(count)"
   ]
  },
  {
   "cell_type": "code",
   "execution_count": 13,
   "metadata": {},
   "outputs": [
    {
     "name": "stdout",
     "output_type": "stream",
     "text": [
      "b\n",
      "a\n",
      "n\n",
      "a\n",
      "n\n",
      "a\n"
     ]
    }
   ],
   "source": [
    "for letter in 'banana':\n",
    "    print(letter)"
   ]
  },
  {
   "cell_type": "code",
   "execution_count": 14,
   "metadata": {},
   "outputs": [
    {
     "data": {
      "text/plain": [
       "['__add__',\n",
       " '__class__',\n",
       " '__contains__',\n",
       " '__delattr__',\n",
       " '__dir__',\n",
       " '__doc__',\n",
       " '__eq__',\n",
       " '__format__',\n",
       " '__ge__',\n",
       " '__getattribute__',\n",
       " '__getitem__',\n",
       " '__getnewargs__',\n",
       " '__gt__',\n",
       " '__hash__',\n",
       " '__init__',\n",
       " '__init_subclass__',\n",
       " '__iter__',\n",
       " '__le__',\n",
       " '__len__',\n",
       " '__lt__',\n",
       " '__mod__',\n",
       " '__mul__',\n",
       " '__ne__',\n",
       " '__new__',\n",
       " '__reduce__',\n",
       " '__reduce_ex__',\n",
       " '__repr__',\n",
       " '__rmod__',\n",
       " '__rmul__',\n",
       " '__setattr__',\n",
       " '__sizeof__',\n",
       " '__str__',\n",
       " '__subclasshook__',\n",
       " 'capitalize',\n",
       " 'casefold',\n",
       " 'center',\n",
       " 'count',\n",
       " 'encode',\n",
       " 'endswith',\n",
       " 'expandtabs',\n",
       " 'find',\n",
       " 'format',\n",
       " 'format_map',\n",
       " 'index',\n",
       " 'isalnum',\n",
       " 'isalpha',\n",
       " 'isascii',\n",
       " 'isdecimal',\n",
       " 'isdigit',\n",
       " 'isidentifier',\n",
       " 'islower',\n",
       " 'isnumeric',\n",
       " 'isprintable',\n",
       " 'isspace',\n",
       " 'istitle',\n",
       " 'isupper',\n",
       " 'join',\n",
       " 'ljust',\n",
       " 'lower',\n",
       " 'lstrip',\n",
       " 'maketrans',\n",
       " 'partition',\n",
       " 'replace',\n",
       " 'rfind',\n",
       " 'rindex',\n",
       " 'rjust',\n",
       " 'rpartition',\n",
       " 'rsplit',\n",
       " 'rstrip',\n",
       " 'split',\n",
       " 'splitlines',\n",
       " 'startswith',\n",
       " 'strip',\n",
       " 'swapcase',\n",
       " 'title',\n",
       " 'translate',\n",
       " 'upper',\n",
       " 'zfill']"
      ]
     },
     "execution_count": 14,
     "metadata": {},
     "output_type": "execute_result"
    }
   ],
   "source": [
    "stuff = 'Hello World'\n",
    "type(stuff)\n",
    "dir(stuff)"
   ]
  },
  {
   "cell_type": "code",
   "execution_count": 21,
   "metadata": {},
   "outputs": [
    {
     "name": "stdout",
     "output_type": "stream",
     "text": [
      ".ma\n"
     ]
    }
   ],
   "source": [
    "data = 'From stephen.marquard@uct.ac.za Sat Jan  5 09:14:16 2008'\n",
    "pos = data.find('.')\n",
    "print(data[pos:pos+3])"
   ]
  },
  {
   "cell_type": "code",
   "execution_count": 6,
   "metadata": {
    "scrolled": true
   },
   "outputs": [
    {
     "name": "stdout",
     "output_type": "stream",
     "text": [
      "0.8475\n"
     ]
    }
   ],
   "source": [
    "text = \"X-DSPAM-Confidence:    0.8475\"\n",
    "x = text.find(':') \n",
    "s_num = text[x+1:]\n",
    "f_num = float(s_num)\n",
    "print(f_num)"
   ]
  },
  {
   "cell_type": "code",
   "execution_count": 5,
   "metadata": {},
   "outputs": [
    {
     "name": "stdout",
     "output_type": "stream",
     "text": [
      "From: stephen.marquard@uct.ac.za\n",
      "From: louis@media.berkeley.edu\n",
      "From: zqian@umich.edu\n",
      "From: rjlowe@iupui.edu\n",
      "From: zqian@umich.edu\n",
      "From: rjlowe@iupui.edu\n",
      "From: cwen@iupui.edu\n",
      "From: cwen@iupui.edu\n",
      "From: gsilver@umich.edu\n",
      "From: gsilver@umich.edu\n",
      "From: zqian@umich.edu\n",
      "From: gsilver@umich.edu\n",
      "From: wagnermr@iupui.edu\n",
      "From: zqian@umich.edu\n",
      "From: antranig@caret.cam.ac.uk\n",
      "From: gopal.ramasammycook@gmail.com\n",
      "From: david.horwitz@uct.ac.za\n",
      "From: david.horwitz@uct.ac.za\n",
      "From: david.horwitz@uct.ac.za\n",
      "From: david.horwitz@uct.ac.za\n",
      "From: stephen.marquard@uct.ac.za\n",
      "From: louis@media.berkeley.edu\n",
      "From: louis@media.berkeley.edu\n",
      "From: ray@media.berkeley.edu\n",
      "From: cwen@iupui.edu\n",
      "From: cwen@iupui.edu\n",
      "From: cwen@iupui.edu\n"
     ]
    }
   ],
   "source": [
    "fhand = open('mbox-short.txt')\n",
    "for line in fhand:\n",
    "    line = line.rstrip()\n",
    "    if line.startswith('From:'):\n",
    "        print(line)"
   ]
  },
  {
   "cell_type": "code",
   "execution_count": 6,
   "metadata": {},
   "outputs": [
    {
     "name": "stdout",
     "output_type": "stream",
     "text": [
      "From stephen.marquard@uct.ac.za Sat Jan  5 09:14:16 2008\n",
      "X-Authentication-Warning: nakamura.uits.iupui.edu: apache set sender to stephen.marquard@uct.ac.za using -f\n",
      "From: stephen.marquard@uct.ac.za\n",
      "Author: stephen.marquard@uct.ac.za\n",
      "From david.horwitz@uct.ac.za Fri Jan  4 07:02:32 2008\n",
      "X-Authentication-Warning: nakamura.uits.iupui.edu: apache set sender to david.horwitz@uct.ac.za using -f\n",
      "From: david.horwitz@uct.ac.za\n",
      "Author: david.horwitz@uct.ac.za\n",
      "r39753 | david.horwitz@uct.ac.za | 2008-01-04 13:05:51 +0200 (Fri, 04 Jan 2008) | 1 line\n",
      "From david.horwitz@uct.ac.za Fri Jan  4 06:08:27 2008\n",
      "X-Authentication-Warning: nakamura.uits.iupui.edu: apache set sender to david.horwitz@uct.ac.za using -f\n",
      "From: david.horwitz@uct.ac.za\n",
      "Author: david.horwitz@uct.ac.za\n",
      "From david.horwitz@uct.ac.za Fri Jan  4 04:49:08 2008\n",
      "X-Authentication-Warning: nakamura.uits.iupui.edu: apache set sender to david.horwitz@uct.ac.za using -f\n",
      "From: david.horwitz@uct.ac.za\n",
      "Author: david.horwitz@uct.ac.za\n",
      "From david.horwitz@uct.ac.za Fri Jan  4 04:33:44 2008\n",
      "X-Authentication-Warning: nakamura.uits.iupui.edu: apache set sender to david.horwitz@uct.ac.za using -f\n",
      "From: david.horwitz@uct.ac.za\n",
      "Author: david.horwitz@uct.ac.za\n",
      "From stephen.marquard@uct.ac.za Fri Jan  4 04:07:34 2008\n",
      "X-Authentication-Warning: nakamura.uits.iupui.edu: apache set sender to stephen.marquard@uct.ac.za using -f\n",
      "From: stephen.marquard@uct.ac.za\n",
      "Author: stephen.marquard@uct.ac.za\n"
     ]
    }
   ],
   "source": [
    "fhand2 = open('mbox-short.txt')\n",
    "for line in fhand2:\n",
    "    line = line.rstrip()\n",
    "    if not '@uct.ac.za' in line:\n",
    "        continue\n",
    "    print(line)"
   ]
  },
  {
   "cell_type": "code",
   "execution_count": 8,
   "metadata": {},
   "outputs": [
    {
     "name": "stdout",
     "output_type": "stream",
     "text": [
      "Enter the file name: mbox-short.txt\n",
      "There where 27 subject lines in mbox-short.txt\n"
     ]
    }
   ],
   "source": [
    "fname = input('Enter the file name: ')\n",
    "fhand3 = open(fname)\n",
    "count = 0\n",
    "for line in fhand3:\n",
    "    if line.startswith('Subject:'):\n",
    "        count = count + 1\n",
    "print('There where', count, 'subject lines in', fname)"
   ]
  },
  {
   "cell_type": "code",
   "execution_count": 3,
   "metadata": {},
   "outputs": [
    {
     "name": "stdout",
     "output_type": "stream",
     "text": [
      "Enter file name: words.txt\n",
      "WRITING PROGRAMS OR PROGRAMMING IS A VERY CREATIVE\n",
      "AND REWARDING ACTIVITY  YOU CAN WRITE PROGRAMS FOR\n",
      "MANY REASONS RANGING FROM MAKING YOUR LIVING TO SOLVING\n",
      "A DIFFICULT DATA ANALYSIS PROBLEM TO HAVING FUN TO HELPING\n",
      "SOMEONE ELSE SOLVE A PROBLEM  THIS BOOK ASSUMES THAT\n",
      "{\\EM EVERYONE} NEEDS TO KNOW HOW TO PROGRAM AND THAT ONCE\n",
      "YOU KNOW HOW TO PROGRAM, YOU WILL FIGURE OUT WHAT YOU WANT\n",
      "TO DO WITH YOUR NEWFOUND SKILLS\n",
      "\n",
      "WE ARE SURROUNDED IN OUR DAILY LIVES WITH COMPUTERS RANGING\n",
      "FROM LAPTOPS TO CELL PHONES  WE CAN THINK OF THESE COMPUTERS\n",
      "AS OUR PERSONAL ASSISTANTS WHO CAN TAKE CARE OF MANY THINGS\n",
      "ON OUR BEHALF  THE HARDWARE IN OUR CURRENT-DAY COMPUTERS\n",
      "IS ESSENTIALLY BUILT TO CONTINUOUSLY ASK US THE QUESTION\n",
      "WHAT WOULD YOU LIKE ME TO DO NEXT\n",
      "\n",
      "OUR COMPUTERS ARE FAST AND HAVE VASTS AMOUNTS OF MEMORY AND\n",
      "COULD BE VERY HELPFUL TO US IF WE ONLY KNEW THE LANGUAGE TO\n",
      "SPEAK TO EXPLAIN TO THE COMPUTER WHAT WE WOULD LIKE IT TO\n",
      "DO NEXT IF WE KNEW THIS LANGUAGE WE COULD TELL THE\n",
      "COMPUTER TO DO TASKS ON OUR BEHALF THAT WERE REPTITIVE\n",
      "INTERESTINGLY, THE KINDS OF THINGS COMPUTERS CAN DO BEST\n",
      "ARE OFTEN THE KINDS OF THINGS THAT WE HUMANS FIND BORING\n",
      "AND MIND-NUMBING\n"
     ]
    }
   ],
   "source": [
    "fname = input(\"Enter file name: \")\n",
    "fh = open(fname)\n",
    "for line in fh:\n",
    "    line = line.rstrip()\n",
    "    print(line.upper())"
   ]
  },
  {
   "cell_type": "code",
   "execution_count": null,
   "metadata": {},
   "outputs": [],
   "source": [
    "fname = input(\"Enter file name: \")\n",
    "fh = open(fname)\n",
    "spam_i = 0\n",
    "spam_sum = 0\n",
    "for line in fh:\n",
    "    if not line.startswith(\"X-DSPAM-Confidence:\"):\n",
    "        continue\n",
    "    x = line.find(':') \n",
    "    s_num = line[x + 1:]\n",
    "    f_num = float(s_num)\n",
    "    spam_sum = f_num + spam_sum\n",
    "    spam_i = spam_i + 1\n",
    "print('Average spam confidence:', spam_sum / spam_i)"
   ]
  },
  {
   "cell_type": "code",
   "execution_count": 1,
   "metadata": {},
   "outputs": [
    {
     "name": "stdout",
     "output_type": "stream",
     "text": [
      "Enter a number: 7\n",
      "Enter a number: 5\n",
      "Enter a number: 6\n",
      "Enter a number: 8\n",
      "Enter a number: 88\n",
      "Enter a number: done\n",
      "Average: 22.8\n"
     ]
    }
   ],
   "source": [
    "total = 0\n",
    "count = 0\n",
    "while True:\n",
    "    inp = input('Enter a number: ')\n",
    "    if inp == 'done':\n",
    "        break\n",
    "    value = float(inp)\n",
    "    total = total + value\n",
    "    count = count + 1\n",
    "average = total / count\n",
    "print('Average:', average)"
   ]
  },
  {
   "cell_type": "markdown",
   "metadata": {},
   "source": [
    "# Lists"
   ]
  },
  {
   "cell_type": "code",
   "execution_count": 50,
   "metadata": {},
   "outputs": [
    {
     "data": {
      "text/plain": [
       "['__add__',\n",
       " '__class__',\n",
       " '__contains__',\n",
       " '__delattr__',\n",
       " '__delitem__',\n",
       " '__dir__',\n",
       " '__doc__',\n",
       " '__eq__',\n",
       " '__format__',\n",
       " '__ge__',\n",
       " '__getattribute__',\n",
       " '__getitem__',\n",
       " '__gt__',\n",
       " '__hash__',\n",
       " '__iadd__',\n",
       " '__imul__',\n",
       " '__init__',\n",
       " '__init_subclass__',\n",
       " '__iter__',\n",
       " '__le__',\n",
       " '__len__',\n",
       " '__lt__',\n",
       " '__mul__',\n",
       " '__ne__',\n",
       " '__new__',\n",
       " '__reduce__',\n",
       " '__reduce_ex__',\n",
       " '__repr__',\n",
       " '__reversed__',\n",
       " '__rmul__',\n",
       " '__setattr__',\n",
       " '__setitem__',\n",
       " '__sizeof__',\n",
       " '__str__',\n",
       " '__subclasshook__',\n",
       " 'append',\n",
       " 'clear',\n",
       " 'copy',\n",
       " 'count',\n",
       " 'extend',\n",
       " 'index',\n",
       " 'insert',\n",
       " 'pop',\n",
       " 'remove',\n",
       " 'reverse',\n",
       " 'sort']"
      ]
     },
     "execution_count": 50,
     "metadata": {},
     "output_type": "execute_result"
    }
   ],
   "source": [
    "l = list()\n",
    "dir(l)"
   ]
  },
  {
   "cell_type": "code",
   "execution_count": 2,
   "metadata": {},
   "outputs": [
    {
     "name": "stdout",
     "output_type": "stream",
     "text": [
      "Enter a number: 7\n",
      "Enter a number: 6\n",
      "Enter a number: 5\n",
      "Enter a number: done\n",
      "Average:  6.0\n"
     ]
    }
   ],
   "source": [
    "numlist = list()\n",
    "while True:\n",
    "    inp = input('Enter a number: ')\n",
    "    if inp == 'done':\n",
    "        break\n",
    "    value = float(inp)\n",
    "    numlist.append(value)\n",
    "average = sum(numlist)/len(numlist)\n",
    "print('Average: ', average)"
   ]
  },
  {
   "cell_type": "code",
   "execution_count": 4,
   "metadata": {},
   "outputs": [
    {
     "name": "stdout",
     "output_type": "stream",
     "text": [
      "['first', 'second', 'third']\n"
     ]
    }
   ],
   "source": [
    "line = 'first;second;third'\n",
    "things = line.split(';')\n",
    "print(things)"
   ]
  },
  {
   "cell_type": "code",
   "execution_count": 14,
   "metadata": {},
   "outputs": [
    {
     "name": "stdout",
     "output_type": "stream",
     "text": [
      "uct.ac.za\n",
      "media.berkeley.edu\n",
      "umich.edu\n",
      "iupui.edu\n",
      "umich.edu\n",
      "iupui.edu\n",
      "iupui.edu\n",
      "iupui.edu\n",
      "umich.edu\n",
      "umich.edu\n",
      "umich.edu\n",
      "umich.edu\n",
      "iupui.edu\n",
      "umich.edu\n",
      "caret.cam.ac.uk\n",
      "gmail.com\n",
      "uct.ac.za\n",
      "uct.ac.za\n",
      "uct.ac.za\n",
      "uct.ac.za\n",
      "uct.ac.za\n",
      "media.berkeley.edu\n",
      "media.berkeley.edu\n",
      "media.berkeley.edu\n",
      "iupui.edu\n",
      "iupui.edu\n",
      "iupui.edu\n"
     ]
    }
   ],
   "source": [
    "fhand = open('mbox-short.txt')\n",
    "for line in fhand:\n",
    "    line = line.rstrip()\n",
    "    if not line.startswith('From '):\n",
    "        continue\n",
    "    words = line.split()\n",
    "    email = words[1]\n",
    "    pieces = email.split('@')\n",
    "    print(pieces[1])"
   ]
  },
  {
   "cell_type": "code",
   "execution_count": 8,
   "metadata": {},
   "outputs": [
    {
     "name": "stdout",
     "output_type": "stream",
     "text": [
      "Enter file name: romeo.txt\n",
      "['Arise', 'But', 'It', 'Juliet', 'Who', 'already', 'and', 'breaks', 'east', 'envious', 'fair', 'grief', 'is', 'kill', 'light', 'moon', 'pale', 'sick', 'soft', 'sun', 'the', 'through', 'what', 'window', 'with', 'yonder']\n"
     ]
    }
   ],
   "source": [
    "fname = input(\"Enter file name: \")\n",
    "fh = open(fname)\n",
    "l = []\n",
    "for line in fh:\n",
    "    words = line.split()\n",
    "    l.append(words)\n",
    "flat_list = []\n",
    "for sublist in l:\n",
    "    for item in sublist:\n",
    "        flat_list.append(item)\n",
    "flat_list.sort()\n",
    "res = []\n",
    "for i in flat_list: \n",
    "    if i not in res: \n",
    "        res.append(i) \n",
    "print(res)"
   ]
  },
  {
   "cell_type": "code",
   "execution_count": 17,
   "metadata": {},
   "outputs": [
    {
     "name": "stdout",
     "output_type": "stream",
     "text": [
      "Enter file name: \n",
      "stephen.marquard@uct.ac.za\n",
      "louis@media.berkeley.edu\n",
      "zqian@umich.edu\n",
      "rjlowe@iupui.edu\n",
      "zqian@umich.edu\n",
      "rjlowe@iupui.edu\n",
      "cwen@iupui.edu\n",
      "cwen@iupui.edu\n",
      "gsilver@umich.edu\n",
      "gsilver@umich.edu\n",
      "zqian@umich.edu\n",
      "gsilver@umich.edu\n",
      "wagnermr@iupui.edu\n",
      "zqian@umich.edu\n",
      "antranig@caret.cam.ac.uk\n",
      "gopal.ramasammycook@gmail.com\n",
      "david.horwitz@uct.ac.za\n",
      "david.horwitz@uct.ac.za\n",
      "david.horwitz@uct.ac.za\n",
      "david.horwitz@uct.ac.za\n",
      "stephen.marquard@uct.ac.za\n",
      "louis@media.berkeley.edu\n",
      "louis@media.berkeley.edu\n",
      "ray@media.berkeley.edu\n",
      "cwen@iupui.edu\n",
      "cwen@iupui.edu\n",
      "cwen@iupui.edu\n",
      "There were 27 lines in the file with From as the first word\n"
     ]
    }
   ],
   "source": [
    "fname = input(\"Enter file name: \")\n",
    "if len(fname) < 1:\n",
    "    fname = \"mbox-short.txt\"\n",
    "    fh = open(fname)\n",
    "else:\n",
    "    fh = open(fname)\n",
    "count = 0\n",
    "for line in fh:\n",
    "    line = line.rstrip()\n",
    "    if not line.startswith('From '):\n",
    "        continue\n",
    "    words = line.split()\n",
    "    email = words[1]\n",
    "    print(email)\n",
    "    count = count + 1\n",
    "print(\"There were\", count, \"lines in the file with From as the first word\")"
   ]
  },
  {
   "cell_type": "markdown",
   "metadata": {},
   "source": [
    "# Dictionaries"
   ]
  },
  {
   "cell_type": "code",
   "execution_count": 19,
   "metadata": {},
   "outputs": [
    {
     "name": "stdout",
     "output_type": "stream",
     "text": [
      "{'csev': 1, 'cwen': 2, 'csew': 1, 'zqian': 1}\n"
     ]
    }
   ],
   "source": [
    "counts = {}\n",
    "names = ['csev', 'cwen', 'csew', 'zqian', 'cwen']\n",
    "for name in names:\n",
    "    if name not in counts:\n",
    "        counts[name] = 1\n",
    "    else:\n",
    "        counts[name] = counts[name] + 1\n",
    "print(counts)"
   ]
  },
  {
   "cell_type": "code",
   "execution_count": 20,
   "metadata": {},
   "outputs": [
    {
     "name": "stdout",
     "output_type": "stream",
     "text": [
      "{'csev': 1, 'cwen': 2, 'csew': 1, 'zqian': 1}\n"
     ]
    }
   ],
   "source": [
    "counts = {}\n",
    "names = ['csev', 'cwen', 'csew', 'zqian', 'cwen']\n",
    "for name in names:\n",
    "    counts[name] = counts.get(name, 0) + 1\n",
    "print(counts)  "
   ]
  },
  {
   "cell_type": "code",
   "execution_count": 25,
   "metadata": {},
   "outputs": [
    {
     "name": "stdout",
     "output_type": "stream",
     "text": [
      "chuck 1\n",
      "fred 42\n",
      "jan 100\n",
      "-----\n",
      "['chuck', 'fred', 'jan']\n",
      "-----\n",
      "dict_keys(['chuck', 'fred', 'jan'])\n",
      "-----\n",
      "dict_values([1, 42, 100])\n",
      "-----\n",
      "dict_items([('chuck', 1), ('fred', 42), ('jan', 100)])\n"
     ]
    }
   ],
   "source": [
    "counts = {'chuck' : 1, 'fred' : 42, 'jan' : 100}\n",
    "for key in counts:\n",
    "    print(key, counts[key])\n",
    "print('-----')\n",
    "print(list(counts))\n",
    "print('-----')\n",
    "print(counts.keys())\n",
    "print('-----')\n",
    "print(counts.values())\n",
    "print('-----')\n",
    "print(counts.items())"
   ]
  },
  {
   "cell_type": "code",
   "execution_count": 29,
   "metadata": {},
   "outputs": [
    {
     "name": "stdout",
     "output_type": "stream",
     "text": [
      "Enter file:mbox-short.txt\n",
      "Jan 352\n"
     ]
    }
   ],
   "source": [
    "name = input('Enter file:')\n",
    "handle = open(name)\n",
    "\n",
    "counts = {}\n",
    "for line in handle:\n",
    "    words = line.split()\n",
    "    for word in words:\n",
    "        counts[word] = counts.get(word, 0) + 1\n",
    "        \n",
    "bigcount = None\n",
    "bigword = None\n",
    "for word, count in counts.items():\n",
    "    if bigcount is None or count > bigcount:\n",
    "        bigword = word\n",
    "        bigcount = count\n",
    "\n",
    "print(bigword, bigcount)"
   ]
  },
  {
   "cell_type": "code",
   "execution_count": 49,
   "metadata": {},
   "outputs": [
    {
     "name": "stdout",
     "output_type": "stream",
     "text": [
      "Enter file name: \n",
      "cwen@iupui.edu 5\n"
     ]
    }
   ],
   "source": [
    "fname = input(\"Enter file name: \")\n",
    "if len(fname) < 1:\n",
    "    fname = \"mbox-short.txt\"\n",
    "    fh = open(fname)\n",
    "else:\n",
    "    fh = open(fname)\n",
    "email2 = []\n",
    "for line in fh:\n",
    "    line = line.rstrip()\n",
    "    if not line.startswith('From '):\n",
    "        continue\n",
    "    words = line.split()\n",
    "    email = words[1]\n",
    "    email2.append(email)\n",
    "counts = {}\n",
    "for name in email2:\n",
    "    counts[name] = counts.get(name, 0) + 1\n",
    "\n",
    "bigcount = None\n",
    "bigword = None\n",
    "for word, count in counts.items():\n",
    "    if bigcount is None or count > bigcount:\n",
    "        bigword = word\n",
    "        bigcount = count\n",
    "\n",
    "print(bigword, bigcount)"
   ]
  },
  {
   "cell_type": "markdown",
   "metadata": {},
   "source": [
    "# Tuples"
   ]
  },
  {
   "cell_type": "code",
   "execution_count": 52,
   "metadata": {},
   "outputs": [
    {
     "data": {
      "text/plain": [
       "['__add__',\n",
       " '__class__',\n",
       " '__contains__',\n",
       " '__delattr__',\n",
       " '__dir__',\n",
       " '__doc__',\n",
       " '__eq__',\n",
       " '__format__',\n",
       " '__ge__',\n",
       " '__getattribute__',\n",
       " '__getitem__',\n",
       " '__getnewargs__',\n",
       " '__gt__',\n",
       " '__hash__',\n",
       " '__init__',\n",
       " '__init_subclass__',\n",
       " '__iter__',\n",
       " '__le__',\n",
       " '__len__',\n",
       " '__lt__',\n",
       " '__mul__',\n",
       " '__ne__',\n",
       " '__new__',\n",
       " '__reduce__',\n",
       " '__reduce_ex__',\n",
       " '__repr__',\n",
       " '__rmul__',\n",
       " '__setattr__',\n",
       " '__sizeof__',\n",
       " '__str__',\n",
       " '__subclasshook__',\n",
       " 'count',\n",
       " 'index']"
      ]
     },
     "execution_count": 52,
     "metadata": {},
     "output_type": "execute_result"
    }
   ],
   "source": [
    "t = tuple()\n",
    "dir(t)"
   ]
  },
  {
   "cell_type": "code",
   "execution_count": 53,
   "metadata": {},
   "outputs": [
    {
     "name": "stdout",
     "output_type": "stream",
     "text": [
      "fred\n"
     ]
    }
   ],
   "source": [
    "(x, y) = (4, 'fred')\n",
    "print(y)"
   ]
  },
  {
   "cell_type": "code",
   "execution_count": 3,
   "metadata": {},
   "outputs": [
    {
     "name": "stdout",
     "output_type": "stream",
     "text": [
      "a 10\n",
      "b 1\n",
      "c 22\n"
     ]
    }
   ],
   "source": [
    "d = {'a' : 10, 'b' : 1, 'c' : 22}\n",
    "t = sorted(d.items())\n",
    "for k, v in sorted(d.items()):\n",
    "    print(k, v)"
   ]
  },
  {
   "cell_type": "code",
   "execution_count": 5,
   "metadata": {},
   "outputs": [
    {
     "name": "stdout",
     "output_type": "stream",
     "text": [
      "[(22, 'c'), (10, 'a'), (1, 'b')]\n"
     ]
    }
   ],
   "source": [
    "c = {'a' : 10, 'b' : 1, 'c' : 22}\n",
    "tmp = []\n",
    "for k, v in c.items():\n",
    "    tmp.append((v, k))\n",
    "tmp = sorted(tmp, reverse = True)\n",
    "print(tmp)"
   ]
  },
  {
   "cell_type": "code",
   "execution_count": 10,
   "metadata": {
    "scrolled": true
   },
   "outputs": [
    {
     "name": "stdout",
     "output_type": "stream",
     "text": [
      "the 3\n",
      "is 3\n",
      "and 3\n",
      "sun 2\n",
      "yonder 1\n",
      "with 1\n",
      "window 1\n",
      "what 1\n",
      "through 1\n",
      "soft 1\n"
     ]
    }
   ],
   "source": [
    "fhand = open('romeo.txt')\n",
    "counts = {}\n",
    "for line in fhand:\n",
    "    words = line.split()\n",
    "    for word in words:\n",
    "        counts[word] = counts.get(word, 0) + 1\n",
    "\n",
    "lst = []\n",
    "for key, val in counts.items():\n",
    "    newtup = (val, key)\n",
    "    lst.append(newtup)\n",
    "    \n",
    "lst = sorted(lst, reverse = True)\n",
    "\n",
    "for val, key in lst[:10]:\n",
    "    print(key, val)"
   ]
  },
  {
   "cell_type": "markdown",
   "metadata": {},
   "source": [
    "# List comprehention"
   ]
  },
  {
   "cell_type": "code",
   "execution_count": 11,
   "metadata": {},
   "outputs": [
    {
     "name": "stdout",
     "output_type": "stream",
     "text": [
      "[(1, 'b'), (10, 'a'), (22, 'c')]\n"
     ]
    }
   ],
   "source": [
    "c = {'a' : 10, 'b' : 1, 'c' : 22}\n",
    "print(sorted([(v, k) for k, v in c.items()]))"
   ]
  },
  {
   "cell_type": "code",
   "execution_count": 57,
   "metadata": {},
   "outputs": [
    {
     "name": "stdout",
     "output_type": "stream",
     "text": [
      "Enter file:\n",
      "04 3\n",
      "06 1\n",
      "07 1\n",
      "09 2\n",
      "10 3\n",
      "11 6\n",
      "14 1\n",
      "15 2\n",
      "16 4\n",
      "17 2\n",
      "18 1\n",
      "19 1\n"
     ]
    }
   ],
   "source": [
    "name = input(\"Enter file:\")\n",
    "if len(name) < 1:\n",
    "    name = \"mbox-short.txt\"\n",
    "    handle = open(name)\n",
    "else:\n",
    "    handle = open(name)\n",
    "\n",
    "things2 = []\n",
    "for line in handle:\n",
    "    line = line.rstrip()\n",
    "    if not line.startswith('From '):\n",
    "        continue\n",
    "    words = line.split()\n",
    "    email = words[5]\n",
    "    things = email.split(':')\n",
    "    things2.append(things[0])\n",
    "\n",
    "counts = {} \n",
    "for name in things2:\n",
    "    counts[name] = counts.get(name, 0) + 1\n",
    "    \n",
    "lst = []\n",
    "for val, key in counts.items():\n",
    "    newtup = (val, key)\n",
    "    lst.append(newtup)\n",
    "    \n",
    "lst = sorted(lst)\n",
    "for key, val in lst:\n",
    "    print(key, val)"
   ]
  },
  {
   "cell_type": "code",
   "execution_count": 40,
   "metadata": {},
   "outputs": [
    {
     "name": "stdout",
     "output_type": "stream",
     "text": [
      "[(1, '19'), (1, '18'), (1, '14'), (1, '07'), (1, '06'), (2, '17'), (2, '15'), (2, '09'), (3, '10'), (3, '04'), (4, '16'), (6, '11')]\n"
     ]
    }
   ],
   "source": [
    "# take the second element for sort\n",
    "def take_first(elem):\n",
    "    return elem[0]\n",
    "\n",
    "\n",
    "# random list\n",
    "random = lst\n",
    "\n",
    "# sort list with key\n",
    "sorted_list = sorted(random, key=take_second)\n",
    "def take_first(elem):\n",
    "    return elem[0]\n",
    "# print list\n",
    "print(sorted_list)"
   ]
  }
 ],
 "metadata": {
  "kernelspec": {
   "display_name": "Python 3",
   "language": "python",
   "name": "python3"
  },
  "language_info": {
   "codemirror_mode": {
    "name": "ipython",
    "version": 3
   },
   "file_extension": ".py",
   "mimetype": "text/x-python",
   "name": "python",
   "nbconvert_exporter": "python",
   "pygments_lexer": "ipython3",
   "version": "3.7.3"
  }
 },
 "nbformat": 4,
 "nbformat_minor": 2
}
