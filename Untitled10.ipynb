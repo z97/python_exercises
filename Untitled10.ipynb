{
 "cells": [
  {
   "cell_type": "code",
   "execution_count": 2,
   "metadata": {},
   "outputs": [
    {
     "name": "stdout",
     "output_type": "stream",
     "text": [
      "Enter an integer (0 to quit): 23\n",
      "That`s a positive number.\n",
      "Enter an integer (0 to quit):-98\n",
      "That`s a negative number.\n",
      "Enter an integer (0 to quit):0\n"
     ]
    }
   ],
   "source": [
    "x = int(input('Enter an integer (0 to quit): '))\n",
    "while x != 0:\n",
    "    if x > 0:\n",
    "        print('That`s a positive number.')\n",
    "    else:\n",
    "        print('That`s a negative number.')\n",
    "    x = int(input('Enter an integer (0 to quit):'))"
   ]
  },
  {
   "cell_type": "code",
   "execution_count": null,
   "metadata": {},
   "outputs": [],
   "source": [
    "limit = int(input('Enter an integer:'))\n",
    "print('The muliples of 3 up to and including', limit, 'are:')\n",
    "for i in range(3, limit + 1,  3):\n",
    "    print(i)"
   ]
  },
  {
   "cell_type": "code",
   "execution_count": null,
   "metadata": {},
   "outputs": [
    {
     "name": "stdout",
     "output_type": "stream",
     "text": [
      "Enter a message (blank to quit):8\n",
      "How many times should it be repeated?8\n",
      "8\n",
      "8\n",
      "8\n",
      "8\n",
      "8\n",
      "8\n",
      "8\n",
      "8\n"
     ]
    }
   ],
   "source": [
    "message = input('Enter a message (blank to quit):')\n",
    "while message != '':\n",
    "    n = int(input('How many times should it be repeated?'))\n",
    "    for i in range(n):\n",
    "        print(message)\n",
    "    message = input('Enter a message (blank to quit):')"
   ]
  },
  {
   "cell_type": "markdown",
   "metadata": {},
   "source": [
    "# 63"
   ]
  },
  {
   "cell_type": "code",
   "execution_count": 6,
   "metadata": {},
   "outputs": [
    {
     "name": "stdout",
     "output_type": "stream",
     "text": [
      "Enter numbers (0 for exit):9\n",
      "Enter numbers (0 for exit):8\n",
      "Enter numbers (0 for exit):7\n",
      "Enter numbers (0 for exit):0\n",
      "Average is: 8.0\n"
     ]
    }
   ],
   "source": [
    "average = int(input('Enter numbers (0 for exit):'))\n",
    "n = 0\n",
    "sum2 = 0\n",
    "while average != 0:\n",
    "    sum2 += average \n",
    "    n += 1\n",
    "    average = int(input('Enter numbers (0 for exit):'))\n",
    "print('Average is:' ,(sum2 / n))"
   ]
  },
  {
   "cell_type": "markdown",
   "metadata": {},
   "source": [
    "# 64"
   ]
  },
  {
   "cell_type": "code",
   "execution_count": null,
   "metadata": {},
   "outputs": [
    {
     "name": "stdout",
     "output_type": "stream",
     "text": [
      "Regular price:9.65\n",
      "Regular price: 9.65 $\n",
      "Discount price: 5.79 $\n",
      "==========\n",
      "Regular price:8.43\n",
      "Regular price: 8.43 $\n",
      "Discount price: 5.06 $\n",
      "==========\n"
     ]
    }
   ],
   "source": [
    "a = float(input('Regular price:'))\n",
    "while a != 0:\n",
    "    b = a * 0.6\n",
    "    print('Regular price:', '{:.2f}'.format(a), '$')\n",
    "    print('Discount price:', '{:.2f}'.format(b), '$')\n",
    "    print('==========')\n",
    "    a = float(input('Regular price:'))\n",
    "    "
   ]
  },
  {
   "cell_type": "markdown",
   "metadata": {},
   "source": [
    "# 65"
   ]
  },
  {
   "cell_type": "code",
   "execution_count": 2,
   "metadata": {},
   "outputs": [
    {
     "name": "stdout",
     "output_type": "stream",
     "text": [
      "Celsius || Fahrenheit\n",
      "0     || 32.0\n",
      "10     || 50.0\n",
      "20     || 68.0\n",
      "30     || 86.0\n",
      "40     || 104.0\n",
      "50     || 122.0\n",
      "60     || 140.0\n",
      "70     || 158.0\n",
      "80     || 176.0\n",
      "90     || 194.0\n",
      "100     || 212.0\n"
     ]
    }
   ],
   "source": [
    "c = 0\n",
    "print('Celsius || Fahrenheit')\n",
    "while c <= 100:\n",
    "    f = (c * 9 / 5) + 32\n",
    "    print(c,'   ','||',f)\n",
    "    c += 10"
   ]
  },
  {
   "cell_type": "markdown",
   "metadata": {},
   "source": [
    "# 66"
   ]
  },
  {
   "cell_type": "code",
   "execution_count": 11,
   "metadata": {},
   "outputs": [
    {
     "name": "stdout",
     "output_type": "stream",
     "text": [
      "Enter pennies:98\n",
      "Enter:76\n",
      "Enter:54\n",
      "Enter:\n",
      "cash is: 230 pennies\n"
     ]
    }
   ],
   "source": [
    "a = input('Enter pennies:')\n",
    "sum2 = 0\n",
    "while a != '':\n",
    "    a = int(a)\n",
    "    sum2 += a\n",
    "    a = input('Enter:')\n",
    "if sum2 % 5 < 2.5:\n",
    "    b = sum2 % 5\n",
    "    sum2 -= b\n",
    "    print('cash is:', sum2, 'pennies')\n",
    "else:\n",
    "    b = sum2 % 5\n",
    "    sum2 -= b\n",
    "    sum2 += 5\n",
    "    print('cash is:', sum2, 'pennies')"
   ]
  },
  {
   "cell_type": "markdown",
   "metadata": {},
   "source": [
    "# 67"
   ]
  },
  {
   "cell_type": "code",
   "execution_count": 16,
   "metadata": {},
   "outputs": [
    {
     "name": "stdout",
     "output_type": "stream",
     "text": [
      "Enter the first x-coordinates: 9\n",
      "Enter the first y-coordinates: 78\n",
      "Enter the next x-coordinate (blank to quit):8\n",
      "Enter the next y-coordinate:7\n",
      "Enter the next x-coordinate (blank to quit):\n",
      "The perrimeter of that polygon is 72.42125546668002\n"
     ]
    }
   ],
   "source": [
    "from math import sqrt\n",
    "perimeter = 0\n",
    "first_x = float(input('Enter the first x-coordinates: '))\n",
    "first_y = float(input('Enter the first y-coordinates: '))\n",
    "prev_x = fx\n",
    "prev_y = fy\n",
    "line = input('Enter the next x-coordinate (blank to quit):')\n",
    "while line != '':\n",
    "    x = float(line)\n",
    "    y = float(input('Enter the next y-coordinate:'))\n",
    "    dist = sqrt((prev_x - x) ** 2 + (prev_y -y) ** 2)\n",
    "    perimeter += dist\n",
    "    prev_x = x\n",
    "    prev_y = y\n",
    "    line = input('Enter the next x-coordinate (blank to quit):')\n",
    "dist = sqrt((first_x - x) ** 2 + (first_y - y) ** 2)\n",
    "perimeter += dist\n",
    "print('The perrimeter of that polygon is', perimeter)"
   ]
  },
  {
   "cell_type": "markdown",
   "metadata": {},
   "source": [
    "# 68"
   ]
  },
  {
   "cell_type": "code",
   "execution_count": 18,
   "metadata": {},
   "outputs": [
    {
     "name": "stdout",
     "output_type": "stream",
     "text": [
      "Enter letter:A+\n",
      "Enter letter:B\n",
      "Enter letter:C+\n",
      "Enter letter:\n",
      "Average Grade Point is: 3.1\n"
     ]
    }
   ],
   "source": [
    "sum2 = 0\n",
    "n = 0\n",
    "letter = input('Enter letter:')\n",
    "while letter != '':\n",
    "    if letter == 'A+':\n",
    "        grade_point = 4.0\n",
    "    elif letter == 'A':\n",
    "        grade_point = 4.0\n",
    "    elif letter == 'A-':\n",
    "        grade_point = 3.7\n",
    "    elif letter == 'B+':\n",
    "        grade_point = 3.3\n",
    "    elif letter == 'B':\n",
    "        grade_point = 3.0\n",
    "    elif letter == 'B-':\n",
    "        grade_point = 2.7\n",
    "    elif letter == 'C+':\n",
    "        grade_point = 2.3\n",
    "    elif letter == 'C':\n",
    "        grade_point = 2.0\n",
    "    elif letter == 'C-':\n",
    "        grade_point = 1.7\n",
    "    elif letter == 'D+':\n",
    "        grade_point = 1.3\n",
    "    elif letter == 'D':\n",
    "        grade_point = 1.0\n",
    "    elif letter == 'F':\n",
    "        grade_point = 0\n",
    "    sum2 += grade_point\n",
    "    n += 1\n",
    "    letter = input('Enter letter:')\n",
    "print('Average Grade Point is:', (sum2 / n))"
   ]
  },
  {
   "cell_type": "markdown",
   "metadata": {},
   "source": [
    "# 69"
   ]
  },
  {
   "cell_type": "code",
   "execution_count": 5,
   "metadata": {
    "scrolled": true
   },
   "outputs": [
    {
     "name": "stdout",
     "output_type": "stream",
     "text": [
      "Age:9\n",
      "Age:7\n",
      "Age:5\n",
      "Age:77\n",
      "Age:87\n",
      "Age:\n",
      "Sum price is: 78.00 $\n"
     ]
    }
   ],
   "source": [
    "age = input('Age:')\n",
    "sum2 = 0\n",
    "while age != '':\n",
    "    age = int(age)\n",
    "    if age <= 2:\n",
    "        sum2 += 0\n",
    "    elif 3 <= age <= 12:\n",
    "        sum2 += 14\n",
    "    elif 13 <= age < 65:\n",
    "        sum2 += 23\n",
    "    elif 65 <= age:\n",
    "        sum2 += 18\n",
    "    age = input('Age:')\n",
    "print('Sum price is:', '{:.2f}'.format(sum2), '$')"
   ]
  },
  {
   "cell_type": "markdown",
   "metadata": {},
   "source": [
    "# 71"
   ]
  },
  {
   "cell_type": "code",
   "execution_count": 30,
   "metadata": {},
   "outputs": [
    {
     "name": "stdout",
     "output_type": "stream",
     "text": [
      "3.1415946525910106\n"
     ]
    }
   ],
   "source": [
    "a = 2\n",
    "b = 3\n",
    "c = 4\n",
    "sum2 = 0\n",
    "while a < 100:\n",
    "    d = 4 / (a * b * c)\n",
    "    a += 4\n",
    "    b += 4\n",
    "    c += 4\n",
    "    sum2 += d\n",
    "a2 = 4\n",
    "b2 = 5\n",
    "c2 = 6\n",
    "sum3 = 0\n",
    "while a2 < 100:\n",
    "    d2 = 4 / (a2 * b2 * c2)\n",
    "    a2 += 4\n",
    "    b2 += 4\n",
    "    c2 += 4\n",
    "    sum3 += d2\n",
    "print(3 + sum2 - sum3)"
   ]
  },
  {
   "cell_type": "markdown",
   "metadata": {},
   "source": [
    "# 72"
   ]
  },
  {
   "cell_type": "code",
   "execution_count": 36,
   "metadata": {},
   "outputs": [
    {
     "name": "stdout",
     "output_type": "stream",
     "text": [
      "0\n",
      "fizz and buzz\n",
      "1\n",
      "none\n",
      "2\n",
      "none\n",
      "3\n",
      "fizz\n",
      "4\n",
      "none\n",
      "5\n",
      "buzz\n",
      "6\n",
      "fizz\n",
      "7\n",
      "none\n",
      "8\n",
      "none\n",
      "9\n",
      "fizz\n",
      "10\n",
      "buzz\n",
      "11\n",
      "none\n",
      "12\n",
      "fizz\n",
      "13\n",
      "none\n",
      "14\n",
      "none\n",
      "15\n",
      "fizz and buzz\n",
      "16\n",
      "none\n",
      "17\n",
      "none\n",
      "18\n",
      "fizz\n",
      "19\n",
      "none\n",
      "20\n",
      "buzz\n",
      "21\n",
      "fizz\n",
      "22\n",
      "none\n",
      "23\n",
      "none\n",
      "24\n",
      "fizz\n",
      "25\n",
      "buzz\n",
      "26\n",
      "none\n",
      "27\n",
      "fizz\n",
      "28\n",
      "none\n",
      "29\n",
      "none\n",
      "30\n",
      "fizz and buzz\n",
      "31\n",
      "none\n",
      "32\n",
      "none\n",
      "33\n",
      "fizz\n",
      "34\n",
      "none\n",
      "35\n",
      "buzz\n",
      "36\n",
      "fizz\n",
      "37\n",
      "none\n",
      "38\n",
      "none\n",
      "39\n",
      "fizz\n",
      "40\n",
      "buzz\n",
      "41\n",
      "none\n",
      "42\n",
      "fizz\n",
      "43\n",
      "none\n",
      "44\n",
      "none\n",
      "45\n",
      "fizz and buzz\n",
      "46\n",
      "none\n",
      "47\n",
      "none\n",
      "48\n",
      "fizz\n",
      "49\n",
      "none\n",
      "50\n",
      "buzz\n",
      "51\n",
      "fizz\n",
      "52\n",
      "none\n",
      "53\n",
      "none\n",
      "54\n",
      "fizz\n",
      "55\n",
      "buzz\n",
      "56\n",
      "none\n",
      "57\n",
      "fizz\n",
      "58\n",
      "none\n",
      "59\n",
      "none\n",
      "60\n",
      "fizz and buzz\n",
      "61\n",
      "none\n",
      "62\n",
      "none\n",
      "63\n",
      "fizz\n",
      "64\n",
      "none\n",
      "65\n",
      "buzz\n",
      "66\n",
      "fizz\n",
      "67\n",
      "none\n",
      "68\n",
      "none\n",
      "69\n",
      "fizz\n",
      "70\n",
      "buzz\n",
      "71\n",
      "none\n",
      "72\n",
      "fizz\n",
      "73\n",
      "none\n",
      "74\n",
      "none\n",
      "75\n",
      "fizz and buzz\n",
      "76\n",
      "none\n",
      "77\n",
      "none\n",
      "78\n",
      "fizz\n",
      "79\n",
      "none\n",
      "80\n",
      "buzz\n",
      "81\n",
      "fizz\n",
      "82\n",
      "none\n",
      "83\n",
      "none\n",
      "84\n",
      "fizz\n",
      "85\n",
      "buzz\n",
      "86\n",
      "none\n",
      "87\n",
      "fizz\n",
      "88\n",
      "none\n",
      "89\n",
      "none\n",
      "90\n",
      "fizz and buzz\n",
      "91\n",
      "none\n",
      "92\n",
      "none\n",
      "93\n",
      "fizz\n",
      "94\n",
      "none\n",
      "95\n",
      "buzz\n",
      "96\n",
      "fizz\n",
      "97\n",
      "none\n",
      "98\n",
      "none\n",
      "99\n",
      "fizz\n"
     ]
    }
   ],
   "source": [
    "a = 0\n",
    "while a < 100:\n",
    "    print(a)\n",
    "    if (a % 3 == 0) and not (a % 5 == 0):\n",
    "        print('fizz')\n",
    "    elif (a % 5 == 0) and not (a % 3 == 0):\n",
    "        print('buzz')\n",
    "    elif (a % 3 == 0) and (a % 5 == 0):\n",
    "        print('fizz and buzz')\n",
    "    else:\n",
    "        print('none')\n",
    "    a += 1"
   ]
  },
  {
   "cell_type": "markdown",
   "metadata": {},
   "source": [
    "# 74"
   ]
  },
  {
   "cell_type": "code",
   "execution_count": 1,
   "metadata": {
    "scrolled": true
   },
   "outputs": [
    {
     "data": {
      "text/plain": [
       "8.717804752569936"
      ]
     },
     "execution_count": 1,
     "metadata": {},
     "output_type": "execute_result"
    }
   ],
   "source": [
    "from math import *\n",
    "def average(a, b):\n",
    "    return (a + b) / 2.0\n",
    "def improve(guess, x):\n",
    "    return average(guess, x/guess)\n",
    "def good_enough(guess, x):\n",
    "    d = abs(guess*guess - x)\n",
    "    return (d < 0.001)\n",
    "def square_root(guess, x):\n",
    "    while(not good_enough(guess, x)):\n",
    "        guess = improve(guess, x)\n",
    "    return guess\n",
    "def my_sqrt(x):\n",
    "    r = square_root(1, x)\n",
    "    return r\n",
    "my_sqrt(76)"
   ]
  },
  {
   "cell_type": "markdown",
   "metadata": {},
   "source": [
    "# 75"
   ]
  },
  {
   "cell_type": "code",
   "execution_count": null,
   "metadata": {},
   "outputs": [],
   "source": [
    "line = input('Enter a string: ')\n",
    "is_pallindrome = True\n",
    "i = 0\n",
    "while i < len(line) / 2 and is_palindrome:\n",
    "    if line[i] != line[len(line)] - i - 1:\n",
    "        is_palindrome = False\n",
    "    i += 1\n",
    "if is_palindrome:\n",
    "    print(line, 'is palindrome')\n",
    "else:\n",
    "    print(line, 'is not palindrome')\n",
    "    "
   ]
  },
  {
   "cell_type": "markdown",
   "metadata": {},
   "source": [
    "# 76"
   ]
  },
  {
   "cell_type": "code",
   "execution_count": 8,
   "metadata": {},
   "outputs": [
    {
     "name": "stdout",
     "output_type": "stream",
     "text": [
      "   1   2   3   4   5   6   7   8   9  10\n",
      "   1   1   2   3   4   5   6   7   8   9  10\n",
      "   2   2   4   6   8  10  12  14  16  18  20\n",
      "   3   3   6   9  12  15  18  21  24  27  30\n",
      "   4   4   8  12  16  20  24  28  32  36  40\n",
      "   5   5  10  15  20  25  30  35  40  45  50\n",
      "   6   6  12  18  24  30  36  42  48  54  60\n",
      "   7   7  14  21  28  35  42  49  56  63  70\n",
      "   8   8  16  24  32  40  48  56  64  72  80\n",
      "   9   9  18  27  36  45  54  63  72  81  90\n",
      "  10  10  20  30  40  50  60  70  80  90 100\n"
     ]
    }
   ],
   "source": [
    "MIN = 1\n",
    "MAX = 10\n",
    "print('', end='')\n",
    "for i in range (MIN, MAX + 1):\n",
    "    print('%4d'%i, end='')\n",
    "print()\n",
    "for i in range(MIN, MAX + 1):\n",
    "    print('%4d'%i, end='')\n",
    "    for j in range(MIN, MAX + 1):\n",
    "        print('%4d'%(i * j), end = '')\n",
    "    print()"
   ]
  }
 ],
 "metadata": {
  "kernelspec": {
   "display_name": "Python 3",
   "language": "python",
   "name": "python3"
  },
  "language_info": {
   "codemirror_mode": {
    "name": "ipython",
    "version": 3
   },
   "file_extension": ".py",
   "mimetype": "text/x-python",
   "name": "python",
   "nbconvert_exporter": "python",
   "pygments_lexer": "ipython3",
   "version": "3.7.3"
  }
 },
 "nbformat": 4,
 "nbformat_minor": 2
}
