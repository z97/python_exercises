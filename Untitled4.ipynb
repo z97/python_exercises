{
 "cells": [
  {
   "cell_type": "code",
   "execution_count": 1,
   "metadata": {},
   "outputs": [],
   "source": [
    "oscar_data = [\n",
    "    [\"The Shape of Water\", 2017, 6.914, 123, ['sci-fi', 'drama'], 19.4, 195.243464],\n",
    "    [\"Moonlight\", 2016, 6.151, 110, ['drama'], 1.5, 65.046687],\n",
    "    [\"Spotlight\", 2015, 7.489, 129, ['drama', 'crime', 'history'], 20.0, 88.346473],\n",
    "    [\"Birdman\", 2014, 7.604, 119, ['drama', 'comedy'], 18.0, 103.215094],\n",
    "    [\"12 Years a Slave\", 2013, 7.71, 133, ['drama', 'biography', 'history'], 20.0, 178.371993],\n",
    "    [\"Argo\", 2012, 7.517, 120, ['thriller', 'drama', 'biography'], 44.5, 232.324128],\n",
    "    [\"The Artist\", 2011, 7.942, 96, ['drama', 'melodrama', 'comedy'], 15.0, 133.432856],\n",
    "    [\"The King\\'s Speech\", 2010, 7.977, 118, ['drama', 'biography', 'history'], 15.0, 414.211549],\n",
    "    [\"The Hurt Locker\", 2008, 7.298, 126, ['thriller', 'drama', 'war', 'history'], 15.0, 49.230772],\n",
    "    [\"Slumdog Millionaire\", 2008, 7.724, 120, ['drama', 'melodrama'], 15.0, 377.910544],\n",
    "    [\"No Country for Old Men\", 2007, 7.726, 122, ['thriller', 'drama', 'crime'], 25.0, 171.627166],\n",
    "    [\"The Departed\", 2006, 8.456, 151, ['thriller', 'drama', 'crime'], 90.0, 289.847354],\n",
    "    [\"Crash\", 2004, 7.896, 108, ['thriller', 'drama', 'crime'], 6.5, 98.410061],\n",
    "    [\"Million Dollar Baby\", 2004, 8.075, 132, ['drama', 'sport'], 30.0, 216.763646],\n",
    "    [\"The Lord of the Rings: Return of the King\", 2003, 8.617, 201, ['fantasy', 'drama', 'adventure'], 94.0, 1119.110941],\n",
    "    [\"Chicago\", 2002, 7.669, 113, ['musical', 'comedy', 'crime'], 45.0, 306.776732],\n",
    "    ['A Beautiful Mind', 2001, 8.557, 135, ['drama', 'biography', 'melodrama'], 58.0, 313.542341],\n",
    "    [\"Gladiator\", 2000, 8.585, 155, ['action', 'drama', 'adventure'], 103.0, 457.640427],\n",
    "    [\"American Beauty\", 1999, 7.965, 122, ['drama'], 15.0, 356.296601],\n",
    "    [\"Shakespeare in Love\", 1998, 7.452, 123, ['drama', 'melodrama', 'comedy', 'history'], 25.0, 289.317794],\n",
    "    [\"Titanic\", 1997, 8.369, 194, ['drama', 'melodrama'], 200.0, 2185.372302],\n",
    "    [\"The English Patient\", 1996, 7.849, 155, ['drama', 'melodrama', 'war'], 27.0, 231.976425],\n",
    "    [\"Braveheart\", 1995, 8.283, 178, ['drama', 'war', 'biography', 'history'], 72.0, 210.409945],\n",
    "    [\"Forrest Gump\", 1994, 8.915, 142, ['drama', 'melodrama'], 55.0, 677.386686],\n",
    "    [\"Schindler\\'s List\", 1993, 8.819, 195, ['drama', 'biography', 'history'], 22.0, 321.265768],\n",
    "    [\"Unforgiven\", 1992, 7.858, 131, ['drama', 'western'], 14.4, 159.157447],\n",
    "    [\"Silence of the Lambs\", 1990, 8.335, 114, ['thriller', 'crime', 'mystery', 'drama', 'horror'], 19.0, 272.742922],\n",
    "    [\"Dances with Wolves\", 1990, 8.112, 181, ['drama', 'adventure', 'western'], 22.0, 424.208848],\n",
    "    [\"Driving Miss Daisy\", 1989, 7.645, 99, ['drama'], 7.5, 145.793296],\n",
    "    [\"Rain Man\", 1988, 8.25, 133, ['drama'], 25.0, 354.825435],\n",
    "]"
   ]
  },
  {
   "cell_type": "code",
   "execution_count": 2,
   "metadata": {},
   "outputs": [],
   "source": [
    "def filter_by_genre(data, genre):\n",
    "    result = []\n",
    "    for row in data:\n",
    "        genres = row[4]\n",
    "        if genre in genres:\n",
    "            result.append(row)\n",
    "    return result\n",
    "\n",
    "def column_sum(data, column):\n",
    "    result = 0\n",
    "    for row in data:\n",
    "        result += row[column]\n",
    "    return result\n",
    "\n",
    "def column_mean(data, column):\n",
    "    total = column_sum(data, column)\n",
    "    mean = total / len(data)\n",
    "    return mean\n",
    "\n",
    "def add_roi(data):\n",
    "    for i in range(len(data)):\n",
    "        budget = data[i][5]\n",
    "        gross = data[i][6]\n",
    "        roi = (gross - budget) / budget\n",
    "        data[i].append(roi)\n",
    "\n",
    "def add_cost_per_minute(data):\n",
    "    for i in range(len(data)):\n",
    "        length = data[i][3]\n",
    "        budget = data[i][5]\n",
    "        price_per_minute = budget / length\n",
    "        data[i].append(price_per_minute)"
   ]
  },
  {
   "cell_type": "code",
   "execution_count": 3,
   "metadata": {},
   "outputs": [],
   "source": [
    "selected_genres = ['history', 'melodrama', 'crime', 'biography', 'thriller']\n",
    "\n",
    "# add columns for the ROI and cost per minute of film to the table\n",
    "# to do this, use the functions add_roi() and add_cost_per_minute\n",
    "   \n",
    "genres_means = []\n",
    "for genre in selected_genres:\n",
    "    # filter the table by genre\n",
    "    filt_data = filter_by_genre(oscar_data, genre)\n",
    "    \n",
    "    # calculate the filtered table's means\n",
    "    \n",
    "    # mean score (index column 2)\n",
    "    mean_score = column_mean(filt_data, 2)\n",
    "        \n",
    "    # mean length (index column 3)\n",
    "    mean_length = column_mean(filt_data, 3)\n",
    "    \n",
    "    \n",
    "    \n",
    "    \n",
    "\n"
   ]
  },
  {
   "cell_type": "code",
   "execution_count": 4,
   "metadata": {},
   "outputs": [],
   "source": [
    "    genres_means.append([genre, mean_score, mean_length])"
   ]
  },
  {
   "cell_type": "code",
   "execution_count": 5,
   "metadata": {},
   "outputs": [
    {
     "name": "stdout",
     "output_type": "stream",
     "text": [
      "Genre      | Rating | Length\n",
      "-------------------------------------------------------\n",
      "thriller  |    7.87 | 123.50 \n"
     ]
    }
   ],
   "source": [
    "print('Genre      | Rating | Length')\n",
    "print('-------------------------------------------------------')\n",
    "for row in genres_means:\n",
    "    print('{: <9} | {: >7.2f} | {: >5.2f} '.format(\n",
    "        row[0], row[1], row[2]))"
   ]
  },
  {
   "cell_type": "code",
   "execution_count": null,
   "metadata": {},
   "outputs": [],
   "source": []
  }
 ],
 "metadata": {
  "kernelspec": {
   "display_name": "Python 3",
   "language": "python",
   "name": "python3"
  },
  "language_info": {
   "codemirror_mode": {
    "name": "ipython",
    "version": 3
   },
   "file_extension": ".py",
   "mimetype": "text/x-python",
   "name": "python",
   "nbconvert_exporter": "python",
   "pygments_lexer": "ipython3",
   "version": "3.7.3"
  }
 },
 "nbformat": 4,
 "nbformat_minor": 2
}
